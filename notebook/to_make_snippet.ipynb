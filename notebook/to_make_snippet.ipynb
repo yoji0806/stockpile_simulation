{
 "cells": [
  {
   "cell_type": "markdown",
   "id": "706d0795-889d-45f2-95f0-99aea6eef67e",
   "metadata": {},
   "source": [
    "# Pythonのハードコード部分を作る\n",
    "\n",
    "リストはメモリを食うからなるべく使いたくない。  \n",
    "（もっと良い方法があるはずなので、今度調べる。）"
   ]
  },
  {
   "cell_type": "code",
   "execution_count": 2,
   "id": "9630d7e6-6450-4e9a-a83f-4c3f42cfc632",
   "metadata": {},
   "outputs": [],
   "source": [
    "import pandas as pd"
   ]
  },
  {
   "cell_type": "code",
   "execution_count": 3,
   "id": "f48efd3a-13dd-435f-bd89-bca5e265d99d",
   "metadata": {},
   "outputs": [],
   "source": [
    "df_evacuation_sites = pd.read_csv('assets/神戸市避難所一覧.csv')"
   ]
  },
  {
   "cell_type": "code",
   "execution_count": null,
   "id": "4998aaad-5d0b-4813-a1c1-d726890127fb",
   "metadata": {},
   "outputs": [],
   "source": []
  },
  {
   "cell_type": "markdown",
   "id": "700d9988-31b1-4ad1-9d97-197c884dbd8b",
   "metadata": {},
   "source": [
    "## ポートアイランドの避難所の緯度・経度の変数"
   ]
  },
  {
   "cell_type": "code",
   "execution_count": 18,
   "id": "a57a29d0-d0b1-4cc5-b037-1d6eb6aa401e",
   "metadata": {},
   "outputs": [
    {
     "name": "stdout",
     "output_type": "stream",
     "text": [
      "evacuation_portisland_1_lng=135.2140986\n",
      "evacuation_portisland_1_lat=34.6696569\n",
      "evacuation_portisland_2_lng=135.2126072\n",
      "evacuation_portisland_2_lat=34.66373\n",
      "evacuation_portisland_3_lng=135.2101714\n",
      "evacuation_portisland_3_lat=34.6639883\n",
      "evacuation_portisland_4_lng=135.210735\n",
      "evacuation_portisland_4_lat=34.6631078\n",
      "evacuation_portisland_5_lng=135.2182844\n",
      "evacuation_portisland_5_lat=34.6659964\n",
      "evacuation_portisland_6_lng=135.2039939\n",
      "evacuation_portisland_6_lat=34.6694625\n"
     ]
    }
   ],
   "source": [
    "df_evacuation_portisland = df_evacuation_sites[df_evacuation_sites['区'] == '中央_港島']\n",
    "\n",
    "base = 'evacuation_portisland'\n",
    "index = 1\n",
    "\n",
    "for row in df_evacuation_portisland.iterrows():\n",
    "    \n",
    "    lng = row[1]['世界_10進_X']\n",
    "    lat = row[1]['世界_10進_Y']\n",
    "    \n",
    "    print(base + '_' + str(index) + '_' + 'lng' + '=' + str(lng))\n",
    "    print(base + '_' + str(index) + '_' + 'lat' + '=' + str(lat))\n",
    "    \n",
    "    index +=1"
   ]
  },
  {
   "cell_type": "code",
   "execution_count": null,
   "id": "0245a11c-91fa-4f6a-88e7-7ece606e6821",
   "metadata": {},
   "outputs": [],
   "source": []
  },
  {
   "cell_type": "code",
   "execution_count": 23,
   "id": "65252809-b736-4419-9512-5dda1fbb7a61",
   "metadata": {},
   "outputs": [
    {
     "name": "stdout",
     "output_type": "stream",
     "text": [
      "lng_list = [135.2140986, 135.2126072, 135.2101714, 135.210735, 135.2182844, 135.2039939]\n",
      "lat_list = [34.6696569, 34.66373, 34.6639883, 34.6631078, 34.6659964, 34.6694625]\n"
     ]
    }
   ],
   "source": [
    "# リストにする。\n",
    "lng_list = []\n",
    "lat_list = []\n",
    "\n",
    "df_evacuation_portisland = df_evacuation_sites[df_evacuation_sites['区'] == '中央_港島']\n",
    "\n",
    "base = 'evacuation_portisland'\n",
    "\n",
    "for row in df_evacuation_portisland.iterrows():\n",
    "    \n",
    "    lng = row[1]['世界_10進_X']\n",
    "    lat = row[1]['世界_10進_Y']\n",
    "    \n",
    "    lng_list.append(lng)\n",
    "    lat_list.append(lat)\n",
    "    \n",
    "print('lng_list =', lng_list)\n",
    "print('lat_list =', lat_list)"
   ]
  },
  {
   "cell_type": "code",
   "execution_count": null,
   "id": "27f88d42-50de-47f2-a723-ef5d4c6ccd48",
   "metadata": {},
   "outputs": [],
   "source": []
  },
  {
   "cell_type": "code",
   "execution_count": 5,
   "id": "735f242f-c590-4861-a690-206febc1c0ee",
   "metadata": {},
   "outputs": [
    {
     "data": {
      "text/html": [
       "<div>\n",
       "<style scoped>\n",
       "    .dataframe tbody tr th:only-of-type {\n",
       "        vertical-align: middle;\n",
       "    }\n",
       "\n",
       "    .dataframe tbody tr th {\n",
       "        vertical-align: top;\n",
       "    }\n",
       "\n",
       "    .dataframe thead th {\n",
       "        text-align: right;\n",
       "    }\n",
       "</style>\n",
       "<table border=\"1\" class=\"dataframe\">\n",
       "  <thead>\n",
       "    <tr style=\"text-align: right;\">\n",
       "      <th></th>\n",
       "      <th>番号</th>\n",
       "      <th>区</th>\n",
       "      <th>緊急避難場所の利用</th>\n",
       "      <th>避難所の利用</th>\n",
       "      <th>名称</th>\n",
       "      <th>住所</th>\n",
       "      <th>電話番号</th>\n",
       "      <th>郵便番号</th>\n",
       "      <th>土砂災害</th>\n",
       "      <th>洪水</th>\n",
       "      <th>津波</th>\n",
       "      <th>備考</th>\n",
       "      <th>世界_10進_X</th>\n",
       "      <th>世界_10進_Y</th>\n",
       "    </tr>\n",
       "  </thead>\n",
       "  <tbody>\n",
       "    <tr>\n",
       "      <th>92</th>\n",
       "      <td>93</td>\n",
       "      <td>中央_港島</td>\n",
       "      <td>○</td>\n",
       "      <td>○</td>\n",
       "      <td>義務教育学校港島学園</td>\n",
       "      <td>神戸市中央区港島中町3-2-2</td>\n",
       "      <td>078-302-1661,1771</td>\n",
       "      <td>650-0046</td>\n",
       "      <td>－</td>\n",
       "      <td>－</td>\n",
       "      <td>○</td>\n",
       "      <td>建物に被害が無ければ、原則自宅避難</td>\n",
       "      <td>135.214099</td>\n",
       "      <td>34.669657</td>\n",
       "    </tr>\n",
       "    <tr>\n",
       "      <th>93</th>\n",
       "      <td>94</td>\n",
       "      <td>中央_港島</td>\n",
       "      <td>○</td>\n",
       "      <td>○</td>\n",
       "      <td>神戸国際展示場</td>\n",
       "      <td>神戸市中央区港島中町6-11-1</td>\n",
       "      <td>078-302-1020</td>\n",
       "      <td>650-0046</td>\n",
       "      <td>－</td>\n",
       "      <td>－</td>\n",
       "      <td>○</td>\n",
       "      <td>建物に被害が無ければ、原則自宅避難</td>\n",
       "      <td>135.212607</td>\n",
       "      <td>34.663730</td>\n",
       "    </tr>\n",
       "    <tr>\n",
       "      <th>94</th>\n",
       "      <td>95</td>\n",
       "      <td>中央_港島</td>\n",
       "      <td>○</td>\n",
       "      <td>○</td>\n",
       "      <td>ワールド記念ホール</td>\n",
       "      <td>神戸市中央区港島中町6-12-2</td>\n",
       "      <td>078-302-8781</td>\n",
       "      <td>650-0046</td>\n",
       "      <td>－</td>\n",
       "      <td>－</td>\n",
       "      <td>○</td>\n",
       "      <td>建物に被害が無ければ、原則自宅避難</td>\n",
       "      <td>135.210171</td>\n",
       "      <td>34.663988</td>\n",
       "    </tr>\n",
       "    <tr>\n",
       "      <th>95</th>\n",
       "      <td>96</td>\n",
       "      <td>中央_港島</td>\n",
       "      <td>○</td>\n",
       "      <td>○</td>\n",
       "      <td>ポートアイランドスポーツセンター</td>\n",
       "      <td>神戸市中央区港島中町6-12-1</td>\n",
       "      <td>078-302-1031</td>\n",
       "      <td>650-0046</td>\n",
       "      <td>－</td>\n",
       "      <td>－</td>\n",
       "      <td>○</td>\n",
       "      <td>建物に被害が無ければ、原則自宅避難</td>\n",
       "      <td>135.210735</td>\n",
       "      <td>34.663108</td>\n",
       "    </tr>\n",
       "    <tr>\n",
       "      <th>96</th>\n",
       "      <td>97</td>\n",
       "      <td>中央_港島</td>\n",
       "      <td>○</td>\n",
       "      <td>○</td>\n",
       "      <td>バンドー神戸青少年科学館</td>\n",
       "      <td>神戸市中央区港島中町7-7-6</td>\n",
       "      <td>078-302-5177</td>\n",
       "      <td>650-0046</td>\n",
       "      <td>－</td>\n",
       "      <td>－</td>\n",
       "      <td>○</td>\n",
       "      <td>建物に被害が無ければ、原則自宅避難</td>\n",
       "      <td>135.218284</td>\n",
       "      <td>34.665996</td>\n",
       "    </tr>\n",
       "    <tr>\n",
       "      <th>97</th>\n",
       "      <td>98</td>\n",
       "      <td>中央_港島</td>\n",
       "      <td>○</td>\n",
       "      <td>○</td>\n",
       "      <td>神戸学院大学</td>\n",
       "      <td>神戸市中央区港島1-1-3</td>\n",
       "      <td>078-974-1551</td>\n",
       "      <td>650-0045</td>\n",
       "      <td>－</td>\n",
       "      <td>－</td>\n",
       "      <td>○</td>\n",
       "      <td>建物に被害が無ければ、原則自宅避難</td>\n",
       "      <td>135.203994</td>\n",
       "      <td>34.669463</td>\n",
       "    </tr>\n",
       "  </tbody>\n",
       "</table>\n",
       "</div>"
      ],
      "text/plain": [
       "    番号      区 緊急避難場所の利用 避難所の利用                名称                住所  \\\n",
       "92  93  中央_港島         ○      ○        義務教育学校港島学園   神戸市中央区港島中町3-2-2   \n",
       "93  94  中央_港島         ○      ○           神戸国際展示場  神戸市中央区港島中町6-11-1   \n",
       "94  95  中央_港島         ○      ○         ワールド記念ホール  神戸市中央区港島中町6-12-2   \n",
       "95  96  中央_港島         ○      ○  ポートアイランドスポーツセンター  神戸市中央区港島中町6-12-1   \n",
       "96  97  中央_港島         ○      ○      バンドー神戸青少年科学館   神戸市中央区港島中町7-7-6   \n",
       "97  98  中央_港島         ○      ○            神戸学院大学     神戸市中央区港島1-1-3   \n",
       "\n",
       "                 電話番号      郵便番号 土砂災害 洪水 津波                 備考    世界_10進_X  \\\n",
       "92  078-302-1661,1771  650-0046    －  －  ○  建物に被害が無ければ、原則自宅避難  135.214099   \n",
       "93       078-302-1020  650-0046    －  －  ○  建物に被害が無ければ、原則自宅避難  135.212607   \n",
       "94       078-302-8781  650-0046    －  －  ○  建物に被害が無ければ、原則自宅避難  135.210171   \n",
       "95       078-302-1031  650-0046    －  －  ○  建物に被害が無ければ、原則自宅避難  135.210735   \n",
       "96       078-302-5177  650-0046    －  －  ○  建物に被害が無ければ、原則自宅避難  135.218284   \n",
       "97       078-974-1551  650-0045    －  －  ○  建物に被害が無ければ、原則自宅避難  135.203994   \n",
       "\n",
       "     世界_10進_Y  \n",
       "92  34.669657  \n",
       "93  34.663730  \n",
       "94  34.663988  \n",
       "95  34.663108  \n",
       "96  34.665996  \n",
       "97  34.669463  "
      ]
     },
     "execution_count": 5,
     "metadata": {},
     "output_type": "execute_result"
    }
   ],
   "source": [
    "df_evacuation_portisland"
   ]
  },
  {
   "cell_type": "code",
   "execution_count": null,
   "id": "a9e9937d-7811-4ba3-b6b6-b975accc9283",
   "metadata": {},
   "outputs": [],
   "source": []
  }
 ],
 "metadata": {
  "kernelspec": {
   "display_name": "Python 3 (ipykernel)",
   "language": "python",
   "name": "python3"
  },
  "language_info": {
   "codemirror_mode": {
    "name": "ipython",
    "version": 3
   },
   "file_extension": ".py",
   "mimetype": "text/x-python",
   "name": "python",
   "nbconvert_exporter": "python",
   "pygments_lexer": "ipython3",
   "version": "3.10.4"
  }
 },
 "nbformat": 4,
 "nbformat_minor": 5
}
