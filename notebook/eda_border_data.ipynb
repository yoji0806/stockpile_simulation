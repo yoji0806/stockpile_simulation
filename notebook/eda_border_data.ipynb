{
 "cells": [
  {
   "cell_type": "code",
   "execution_count": 96,
   "id": "a02d76ba-d16a-4d73-9508-6592dd88829f",
   "metadata": {},
   "outputs": [],
   "source": [
    "import geopandas as gpd\n",
    "import matplotlib.pyplot as plt\n",
    "import matplotlib.ticker as ticker\n",
    "import random\n",
    "import sympy\n",
    "import numpy as np\n",
    "\n",
    "\n",
    "\n",
    "from shapely.geometry import Polygon"
   ]
  },
  {
   "cell_type": "code",
   "execution_count": 2,
   "id": "46b1e0f5-97f1-4a2d-9ce8-df4913f57f37",
   "metadata": {},
   "outputs": [
    {
     "name": "stdout",
     "output_type": "stream",
     "text": [
      "/home/jovyan/assets/border/Hyogo\n"
     ]
    }
   ],
   "source": [
    "%%bash\n",
    "cd assets/border/Hyogo\n",
    "pwd"
   ]
  },
  {
   "cell_type": "code",
   "execution_count": null,
   "id": "f4adcb5d-2920-4426-8c0d-c857a2e03b69",
   "metadata": {},
   "outputs": [],
   "source": []
  },
  {
   "cell_type": "markdown",
   "id": "58792f91-2589-470a-935b-4aabd9755053",
   "metadata": {},
   "source": [
    "# 国土数値情報ダウンロードサービス > 行政区域データ\n",
    "\n",
    "https://nlftp.mlit.go.jp/ksj/jpgis/datalist/KsjTmplt-N03.html"
   ]
  },
  {
   "cell_type": "markdown",
   "id": "2d751289-6eb7-4917-b6a4-d8f22770d258",
   "metadata": {},
   "source": [
    "## 兵庫県の市町村境界データ"
   ]
  },
  {
   "cell_type": "code",
   "execution_count": 3,
   "id": "425d5449-d8d9-437c-b72a-9b05185245c9",
   "metadata": {},
   "outputs": [
    {
     "name": "stderr",
     "output_type": "stream",
     "text": [
      "ERROR 1: PROJ: proj_create_from_database: Open of /opt/conda/share/proj failed\n"
     ]
    },
    {
     "data": {
      "text/html": [
       "<div>\n",
       "<style scoped>\n",
       "    .dataframe tbody tr th:only-of-type {\n",
       "        vertical-align: middle;\n",
       "    }\n",
       "\n",
       "    .dataframe tbody tr th {\n",
       "        vertical-align: top;\n",
       "    }\n",
       "\n",
       "    .dataframe thead th {\n",
       "        text-align: right;\n",
       "    }\n",
       "</style>\n",
       "<table border=\"1\" class=\"dataframe\">\n",
       "  <thead>\n",
       "    <tr style=\"text-align: right;\">\n",
       "      <th></th>\n",
       "      <th>N03_001</th>\n",
       "      <th>N03_002</th>\n",
       "      <th>N03_003</th>\n",
       "      <th>N03_004</th>\n",
       "      <th>N03_007</th>\n",
       "      <th>geometry</th>\n",
       "    </tr>\n",
       "  </thead>\n",
       "  <tbody>\n",
       "    <tr>\n",
       "      <th>0</th>\n",
       "      <td>兵庫県</td>\n",
       "      <td>None</td>\n",
       "      <td>神戸市</td>\n",
       "      <td>東灘区</td>\n",
       "      <td>28101</td>\n",
       "      <td>POLYGON ((135.28019 34.65135, 135.27681 34.651...</td>\n",
       "    </tr>\n",
       "    <tr>\n",
       "      <th>1</th>\n",
       "      <td>兵庫県</td>\n",
       "      <td>None</td>\n",
       "      <td>神戸市</td>\n",
       "      <td>東灘区</td>\n",
       "      <td>28101</td>\n",
       "      <td>POLYGON ((135.25423 34.66918, 135.25394 34.668...</td>\n",
       "    </tr>\n",
       "    <tr>\n",
       "      <th>2</th>\n",
       "      <td>兵庫県</td>\n",
       "      <td>None</td>\n",
       "      <td>神戸市</td>\n",
       "      <td>東灘区</td>\n",
       "      <td>28101</td>\n",
       "      <td>POLYGON ((135.27054 34.67930, 135.27032 34.679...</td>\n",
       "    </tr>\n",
       "    <tr>\n",
       "      <th>3</th>\n",
       "      <td>兵庫県</td>\n",
       "      <td>None</td>\n",
       "      <td>神戸市</td>\n",
       "      <td>東灘区</td>\n",
       "      <td>28101</td>\n",
       "      <td>POLYGON ((135.28140 34.69730, 135.28142 34.697...</td>\n",
       "    </tr>\n",
       "    <tr>\n",
       "      <th>4</th>\n",
       "      <td>兵庫県</td>\n",
       "      <td>None</td>\n",
       "      <td>神戸市</td>\n",
       "      <td>東灘区</td>\n",
       "      <td>28101</td>\n",
       "      <td>POLYGON ((135.30395 34.70998, 135.30397 34.709...</td>\n",
       "    </tr>\n",
       "    <tr>\n",
       "      <th>...</th>\n",
       "      <td>...</td>\n",
       "      <td>...</td>\n",
       "      <td>...</td>\n",
       "      <td>...</td>\n",
       "      <td>...</td>\n",
       "      <td>...</td>\n",
       "    </tr>\n",
       "    <tr>\n",
       "      <th>2179</th>\n",
       "      <td>兵庫県</td>\n",
       "      <td>None</td>\n",
       "      <td>美方郡</td>\n",
       "      <td>新温泉町</td>\n",
       "      <td>28586</td>\n",
       "      <td>POLYGON ((134.50283 35.66286, 134.50288 35.662...</td>\n",
       "    </tr>\n",
       "    <tr>\n",
       "      <th>2180</th>\n",
       "      <td>兵庫県</td>\n",
       "      <td>None</td>\n",
       "      <td>美方郡</td>\n",
       "      <td>新温泉町</td>\n",
       "      <td>28586</td>\n",
       "      <td>POLYGON ((134.50303 35.66310, 134.50303 35.663...</td>\n",
       "    </tr>\n",
       "    <tr>\n",
       "      <th>2181</th>\n",
       "      <td>兵庫県</td>\n",
       "      <td>None</td>\n",
       "      <td>美方郡</td>\n",
       "      <td>新温泉町</td>\n",
       "      <td>28586</td>\n",
       "      <td>POLYGON ((134.51707 35.66411, 134.51704 35.664...</td>\n",
       "    </tr>\n",
       "    <tr>\n",
       "      <th>2182</th>\n",
       "      <td>兵庫県</td>\n",
       "      <td>None</td>\n",
       "      <td>美方郡</td>\n",
       "      <td>新温泉町</td>\n",
       "      <td>28586</td>\n",
       "      <td>POLYGON ((134.51750 35.66579, 134.51752 35.665...</td>\n",
       "    </tr>\n",
       "    <tr>\n",
       "      <th>2183</th>\n",
       "      <td>兵庫県</td>\n",
       "      <td>None</td>\n",
       "      <td>美方郡</td>\n",
       "      <td>新温泉町</td>\n",
       "      <td>28586</td>\n",
       "      <td>POLYGON ((134.51697 35.66653, 134.51697 35.666...</td>\n",
       "    </tr>\n",
       "  </tbody>\n",
       "</table>\n",
       "<p>2184 rows × 6 columns</p>\n",
       "</div>"
      ],
      "text/plain": [
       "     N03_001 N03_002 N03_003 N03_004 N03_007  \\\n",
       "0        兵庫県    None     神戸市     東灘区   28101   \n",
       "1        兵庫県    None     神戸市     東灘区   28101   \n",
       "2        兵庫県    None     神戸市     東灘区   28101   \n",
       "3        兵庫県    None     神戸市     東灘区   28101   \n",
       "4        兵庫県    None     神戸市     東灘区   28101   \n",
       "...      ...     ...     ...     ...     ...   \n",
       "2179     兵庫県    None     美方郡    新温泉町   28586   \n",
       "2180     兵庫県    None     美方郡    新温泉町   28586   \n",
       "2181     兵庫県    None     美方郡    新温泉町   28586   \n",
       "2182     兵庫県    None     美方郡    新温泉町   28586   \n",
       "2183     兵庫県    None     美方郡    新温泉町   28586   \n",
       "\n",
       "                                               geometry  \n",
       "0     POLYGON ((135.28019 34.65135, 135.27681 34.651...  \n",
       "1     POLYGON ((135.25423 34.66918, 135.25394 34.668...  \n",
       "2     POLYGON ((135.27054 34.67930, 135.27032 34.679...  \n",
       "3     POLYGON ((135.28140 34.69730, 135.28142 34.697...  \n",
       "4     POLYGON ((135.30395 34.70998, 135.30397 34.709...  \n",
       "...                                                 ...  \n",
       "2179  POLYGON ((134.50283 35.66286, 134.50288 35.662...  \n",
       "2180  POLYGON ((134.50303 35.66310, 134.50303 35.663...  \n",
       "2181  POLYGON ((134.51707 35.66411, 134.51704 35.664...  \n",
       "2182  POLYGON ((134.51750 35.66579, 134.51752 35.665...  \n",
       "2183  POLYGON ((134.51697 35.66653, 134.51697 35.666...  \n",
       "\n",
       "[2184 rows x 6 columns]"
      ]
     },
     "metadata": {},
     "output_type": "display_data"
    }
   ],
   "source": [
    "gdf_hyogo = gpd.read_file(\"./assets/border/Hyogo/N03-19_28_190101.shp\")\n",
    "display(gdf_hyogo)"
   ]
  },
  {
   "cell_type": "code",
   "execution_count": 4,
   "id": "cf830017-2197-4b03-864d-a0372fe6f9c8",
   "metadata": {},
   "outputs": [
    {
     "data": {
      "text/plain": [
       "Index(['N03_001', 'N03_002', 'N03_003', 'N03_004', 'N03_007', 'geometry'], dtype='object')"
      ]
     },
     "execution_count": 4,
     "metadata": {},
     "output_type": "execute_result"
    }
   ],
   "source": [
    "gdf_hyogo.columns"
   ]
  },
  {
   "cell_type": "code",
   "execution_count": 5,
   "id": "f366f42c-cefa-4811-8e41-066528be4b52",
   "metadata": {},
   "outputs": [
    {
     "name": "stdout",
     "output_type": "stream",
     "text": [
      "['兵庫県'] \n",
      "\n",
      "[None] \n",
      "\n",
      "['神戸市' None '川辺郡' '多可郡' '加古郡' '神崎郡' '揖保郡' '赤穂郡' '佐用郡' '美方郡'] \n",
      "\n",
      "['東灘区' '灘区' '兵庫区' '長田区' '須磨区' '垂水区' '北区' '中央区' '西区' '姫路市' '尼崎市' '明石市'\n",
      " '西宮市' '洲本市' '芦屋市' '伊丹市' '相生市' '豊岡市' '加古川市' '赤穂市' '西脇市' '宝塚市' '三木市' '高砂市'\n",
      " '川西市' '小野市' '三田市' '加西市' '篠山市' '養父市' '丹波市' '南あわじ市' '朝来市' '淡路市' '宍粟市' '加東市'\n",
      " 'たつの市' '猪名川町' '多可町' '稲美町' '播磨町' '市川町' '福崎町' '神河町' '太子町' '上郡町' '佐用町' '香美町'\n",
      " '新温泉町'] \n",
      "\n",
      "['28101' '28102' '28105' '28106' '28107' '28108' '28109' '28110' '28111'\n",
      " '28201' '28202' '28203' '28204' '28205' '28206' '28207' '28208' '28209'\n",
      " '28210' '28212' '28213' '28214' '28215' '28216' '28217' '28218' '28219'\n",
      " '28220' '28221' '28222' '28223' '28224' '28225' '28226' '28227' '28228'\n",
      " '28229' '28301' '28365' '28381' '28382' '28442' '28443' '28446' '28464'\n",
      " '28481' '28501' '28585' '28586'] \n",
      "\n"
     ]
    }
   ],
   "source": [
    "print(gdf_hyogo['N03_001'].unique(), '\\n')\n",
    "print(gdf_hyogo['N03_002'].unique(), '\\n')\n",
    "print(gdf_hyogo['N03_003'].unique(), '\\n')\n",
    "print(gdf_hyogo['N03_004'].unique(), '\\n')\n",
    "print(gdf_hyogo['N03_007'].unique(), '\\n')"
   ]
  },
  {
   "cell_type": "code",
   "execution_count": 6,
   "id": "4c0352ab-981c-4ff0-9836-edce92254187",
   "metadata": {},
   "outputs": [
    {
     "data": {
      "image/svg+xml": [
       "<svg xmlns=\"http://www.w3.org/2000/svg\" xmlns:xlink=\"http://www.w3.org/1999/xlink\" width=\"100.0\" height=\"100.0\" viewBox=\"135.22453839408365 34.68589517447475 0.00012856747548539715 0.00034557028783410715\" preserveAspectRatio=\"xMinYMin meet\"><g transform=\"matrix(1,0,0,-1,0,69.37213591923734)\"><path fill-rule=\"evenodd\" fill=\"#66cc99\" stroke=\"#555555\" stroke-width=\"6.911405756682143e-06\" opacity=\"0.6\" d=\"M 135.2246541626596,34.685913161563235 L 135.2245866667413,34.6859079733743 L 135.2245511929832,34.68622274778164 L 135.2246185863787,34.68622794586304 L 135.2246541626596,34.685913161563235 z\" /></g></svg>"
      ],
      "text/plain": [
       "<shapely.geometry.polygon.Polygon at 0xffff4b0fca60>"
      ]
     },
     "execution_count": 6,
     "metadata": {},
     "output_type": "execute_result"
    }
   ],
   "source": [
    "gdf_hyogo[gdf_hyogo[\"N03_004\"] == '灘区']['geometry'].iloc[10]"
   ]
  },
  {
   "cell_type": "markdown",
   "id": "87bf39d3-c867-4d67-933c-0328ff3a4449",
   "metadata": {},
   "source": [
    "↑これは、境界を可視化したもの？？？\n",
    "\n",
    "行政区域データだと、区までしかない。\n",
    "それより細かい町の単位は、Polygon情報としてはあるが、名称がない。"
   ]
  },
  {
   "cell_type": "code",
   "execution_count": null,
   "id": "5e06132f-bd06-4b2c-ba5d-d3b20fae7bce",
   "metadata": {},
   "outputs": [],
   "source": []
  },
  {
   "cell_type": "code",
   "execution_count": null,
   "id": "f08f4faf-5f98-4ee4-9bf8-34bb67e50357",
   "metadata": {},
   "outputs": [],
   "source": []
  },
  {
   "cell_type": "markdown",
   "id": "0dfb70e3-acf5-43f8-988e-5ae13f90140f",
   "metadata": {},
   "source": [
    "# e-Stat 国勢調査　小地域\n",
    "\n",
    "https://www.e-stat.go.jp/gis/statmap-search?page=1&type=2&aggregateUnitForBoundary=A&toukeiCode=00200521\n",
    "\n",
    "参考：[国勢調査町丁・字等別境界データセット | Geoshapeリポジトリ](https://geoshape.ex.nii.ac.jp/ka/)\n",
    "\n",
    "こっちならありそう。"
   ]
  },
  {
   "cell_type": "code",
   "execution_count": 7,
   "id": "aca5dca1-3f4b-497b-b000-aace1333d822",
   "metadata": {},
   "outputs": [
    {
     "name": "stdout",
     "output_type": "stream",
     "text": [
      "B002005212020DDSWC28110.zip\n",
      "r2kb28110.dbf\n",
      "r2kb28110.prj\n",
      "r2kb28110.shp\n",
      "r2kb28110.shx\n"
     ]
    }
   ],
   "source": [
    "%%bash\n",
    "cd assets/border/Hyogo/Chuo\n",
    "ls"
   ]
  },
  {
   "cell_type": "markdown",
   "id": "67c8976b-c9c2-447c-b3cb-aabd1e7d40ae",
   "metadata": {
    "tags": []
   },
   "source": [
    "## 灘区の境界データ"
   ]
  },
  {
   "cell_type": "code",
   "execution_count": 8,
   "id": "c7619cd5-5baf-4d8d-b923-d9197f4c9d7d",
   "metadata": {},
   "outputs": [
    {
     "data": {
      "text/html": [
       "<div>\n",
       "<style scoped>\n",
       "    .dataframe tbody tr th:only-of-type {\n",
       "        vertical-align: middle;\n",
       "    }\n",
       "\n",
       "    .dataframe tbody tr th {\n",
       "        vertical-align: top;\n",
       "    }\n",
       "\n",
       "    .dataframe thead th {\n",
       "        text-align: right;\n",
       "    }\n",
       "</style>\n",
       "<table border=\"1\" class=\"dataframe\">\n",
       "  <thead>\n",
       "    <tr style=\"text-align: right;\">\n",
       "      <th></th>\n",
       "      <th>KEY_CODE</th>\n",
       "      <th>PREF</th>\n",
       "      <th>CITY</th>\n",
       "      <th>K_AREA</th>\n",
       "      <th>S_AREA</th>\n",
       "      <th>PREF_NAME</th>\n",
       "      <th>CITY_NAME</th>\n",
       "      <th>S_NAME</th>\n",
       "      <th>KIGO_E</th>\n",
       "      <th>HCODE</th>\n",
       "      <th>...</th>\n",
       "      <th>KEYCODE1</th>\n",
       "      <th>JINKO</th>\n",
       "      <th>SETAI</th>\n",
       "      <th>KEN_OLD</th>\n",
       "      <th>CITY_OLD</th>\n",
       "      <th>X_CODE</th>\n",
       "      <th>Y_CODE</th>\n",
       "      <th>KCODE1</th>\n",
       "      <th>CCODE1</th>\n",
       "      <th>geometry</th>\n",
       "    </tr>\n",
       "  </thead>\n",
       "  <tbody>\n",
       "    <tr>\n",
       "      <th>0</th>\n",
       "      <td>281020001101</td>\n",
       "      <td>28</td>\n",
       "      <td>102</td>\n",
       "      <td>043005020</td>\n",
       "      <td>0001101</td>\n",
       "      <td>兵庫県</td>\n",
       "      <td>神戸市灘区</td>\n",
       "      <td>下河原通五丁目</td>\n",
       "      <td>None</td>\n",
       "      <td>8101</td>\n",
       "      <td>...</td>\n",
       "      <td>1020001-1-01</td>\n",
       "      <td>18</td>\n",
       "      <td>10</td>\n",
       "      <td>28</td>\n",
       "      <td>102</td>\n",
       "      <td>135.231086</td>\n",
       "      <td>34.710639</td>\n",
       "      <td>0430-05020</td>\n",
       "      <td>1-1- 1</td>\n",
       "      <td>POLYGON ((135.23126 34.71082, 135.23127 34.710...</td>\n",
       "    </tr>\n",
       "    <tr>\n",
       "      <th>1</th>\n",
       "      <td>281020001102</td>\n",
       "      <td>28</td>\n",
       "      <td>102</td>\n",
       "      <td>043004040</td>\n",
       "      <td>0001102</td>\n",
       "      <td>兵庫県</td>\n",
       "      <td>神戸市灘区</td>\n",
       "      <td>下河原通四丁目</td>\n",
       "      <td>None</td>\n",
       "      <td>8101</td>\n",
       "      <td>...</td>\n",
       "      <td>1020001-1-02</td>\n",
       "      <td>56</td>\n",
       "      <td>30</td>\n",
       "      <td>28</td>\n",
       "      <td>102</td>\n",
       "      <td>135.231764</td>\n",
       "      <td>34.710687</td>\n",
       "      <td>0430-04040</td>\n",
       "      <td>1-1- 2</td>\n",
       "      <td>POLYGON ((135.23220 34.71078, 135.23222 34.710...</td>\n",
       "    </tr>\n",
       "  </tbody>\n",
       "</table>\n",
       "<p>2 rows × 38 columns</p>\n",
       "</div>"
      ],
      "text/plain": [
       "       KEY_CODE PREF CITY     K_AREA   S_AREA PREF_NAME CITY_NAME   S_NAME  \\\n",
       "0  281020001101   28  102  043005020  0001101       兵庫県     神戸市灘区  下河原通五丁目   \n",
       "1  281020001102   28  102  043004040  0001102       兵庫県     神戸市灘区  下河原通四丁目   \n",
       "\n",
       "  KIGO_E  HCODE  ...      KEYCODE1  JINKO SETAI KEN_OLD CITY_OLD      X_CODE  \\\n",
       "0   None   8101  ...  1020001-1-01     18    10      28      102  135.231086   \n",
       "1   None   8101  ...  1020001-1-02     56    30      28      102  135.231764   \n",
       "\n",
       "      Y_CODE      KCODE1  CCODE1  \\\n",
       "0  34.710639  0430-05020  1-1- 1   \n",
       "1  34.710687  0430-04040  1-1- 2   \n",
       "\n",
       "                                            geometry  \n",
       "0  POLYGON ((135.23126 34.71082, 135.23127 34.710...  \n",
       "1  POLYGON ((135.23220 34.71078, 135.23222 34.710...  \n",
       "\n",
       "[2 rows x 38 columns]"
      ]
     },
     "execution_count": 8,
     "metadata": {},
     "output_type": "execute_result"
    }
   ],
   "source": [
    "gdf_hyogo_kobe_nada = gpd.read_file(\"./assets/border/Hyogo/Nada/r2kb28102.shp\")\n",
    "gdf_hyogo_kobe_nada.head(2)"
   ]
  },
  {
   "cell_type": "code",
   "execution_count": 9,
   "id": "03a7fc44-5f3a-479f-884c-1ff830ac538b",
   "metadata": {},
   "outputs": [
    {
     "name": "stdout",
     "output_type": "stream",
     "text": [
      "KEY_CODE\n",
      "['281020001101' '281020001102' '281020001103' ... '2810212463'\n",
      " '2810212479' '2810212484'] \n",
      "\n",
      "PREF\n",
      "['28'] \n",
      "\n",
      "CITY\n",
      "['102'] \n",
      "\n",
      "K_AREA\n",
      "['043005020' '043004040' '043004050' ... '084000010' '067000010'\n",
      " '999000010'] \n",
      "\n",
      "S_AREA\n",
      "['0001101' '0001102' '0001103' ... '12463' '12479' '12484'] \n",
      "\n",
      "PREF_NAME\n",
      "['兵庫県'] \n",
      "\n",
      "CITY_NAME\n",
      "['神戸市灘区'] \n",
      "\n",
      "S_NAME\n",
      "['下河原通五丁目' '下河原通四丁目' '下河原通三丁目' '下河原通一丁目' '下河原通二丁目' '琵琶町三丁目' '琵琶町二丁目'\n",
      " '琵琶町一丁目' '備後町五丁目' '深田町四丁目' '備後町四丁目' '桜口町四丁目' '桜口町五丁目' '深田町三丁目' '深田町二丁目'\n",
      " '深田町一丁目' '中郷町五丁目' '備後町一丁目' '大和町五丁目' '大和町四丁目' '大和町三丁目' '大和町一丁目' '大和町二丁目'\n",
      " '中郷町一丁目' '中郷町二丁目' '中郷町三丁目' '中郷町四丁目' '備後町二丁目' '備後町三丁目' '桜口町三丁目' '桜口町二丁目'\n",
      " '桜口町一丁目' '徳井町五丁目' '徳井町四丁目' '徳井町三丁目' '徳井町二丁目' '徳井町一丁目' '友田町三丁目' '友田町二丁目'\n",
      " '友田町一丁目' '記田町五丁目' '記田町四丁目' '記田町三丁目' '記田町二丁目' '記田町一丁目' '浜田町三丁目' '浜田町二丁目'\n",
      " '鹿ノ下通三丁目' '大石東町六丁目' '鹿ノ下通二丁目' '大石東町五丁目' '鹿ノ下通一丁目' '烏帽子町三丁目' '大石東町三丁目'\n",
      " '大石東町四丁目' '烏帽子町二丁目' '大石東町二丁目' '烏帽子町一丁目' '新在家北町二丁目' '友田町五丁目' '友田町四丁目'\n",
      " '新在家北町一丁目' '大石東町一丁目' '大石南町二丁目' '大石南町三丁目' '味泥町' '大石南町一丁目' '新在家南町五丁目'\n",
      " '新在家南町四丁目' '新在家南町三丁目' '新在家南町一丁目' '新在家南町二丁目' '浜田町一丁目' '浜田町四丁目' '灘南通六丁目'\n",
      " '灘南通五丁目' '灘南通四丁目' '灘南通三丁目' '灘南通二丁目' '灘南通一丁目' '船寺通一丁目' '船寺通二丁目' '船寺通三丁目'\n",
      " '船寺通四丁目' '船寺通五丁目' '船寺通六丁目' '都通五丁目' '都通三丁目' '都通四丁目' '都通二丁目' '大石北町' '都通一丁目'\n",
      " '岩屋南町' '摩耶海岸通二丁目' '摩耶海岸通一丁目' '岩屋北町六丁目' '岩屋北町七丁目' '岩屋北町五丁目' '岩屋北町四丁目'\n",
      " '岩屋北町三丁目' '岩屋北町二丁目' '岩屋北町一丁目' '岩屋中町一丁目' '岩屋中町二丁目' '岩屋中町三丁目' '岩屋中町四丁目'\n",
      " '岩屋中町五丁目' '原田通三丁目' '原田通二丁目' '原田通一丁目' '城内通四丁目' '城内通二丁目' '城内通三丁目' '城内通一丁目'\n",
      " '城内通五丁目' '灘北通十丁目' '灘北通九丁目' '灘北通八丁目' '灘北通七丁目' '岸地通五丁目' '岸地通四丁目' '岸地通三丁目'\n",
      " '岸地通二丁目' '岸地通一丁目' '大内通二丁目' '大内通一丁目' '大内通三丁目' '大内通四丁目' '大内通五丁目' '大内通六丁目'\n",
      " '泉通六丁目' '泉通五丁目' '泉通四丁目' '泉通三丁目' '泉通二丁目' '泉通一丁目' '灘北通一丁目' '灘北通二丁目'\n",
      " '灘北通三丁目' '灘北通四丁目' '灘北通五丁目' '灘北通六丁目' '中原通四丁目' '中原通三丁目' '中原通二丁目' '中原通一丁目'\n",
      " '篠原南町七丁目' '篠原南町六丁目' '倉石通一丁目' '倉石通二丁目' '倉石通三丁目' '倉石通四丁目' '倉石通五丁目' '倉石通六丁目'\n",
      " '水道筋六丁目' '王子町一丁目' '水道筋五丁目' '水道筋四丁目' '水道筋三丁目' '水道筋二丁目' '水道筋一丁目' '青谷町二丁目'\n",
      " '青谷町三丁目' '上野通八丁目' '赤坂通八丁目' '上野通七丁目' '赤坂通七丁目' '上野通六丁目' '赤坂通六丁目' '赤坂通五丁目'\n",
      " '上野通五丁目' '上野通四丁目' '赤坂通四丁目' '畑原通四丁目' '畑原通五丁目' '天城通四丁目' '天城通五丁目' '天城通六丁目'\n",
      " '天城通七丁目' '天城通八丁目' '青谷町一丁目' '福住通八丁目' '王子町二丁目' '王子町三丁目' '中原通七丁目' '福住通七丁目'\n",
      " '中原通六丁目' '福住通六丁目' '中原通五丁目' '福住通五丁目' '福住通四丁目' '上野通三丁目' '上野通二丁目' '国玉通一丁目'\n",
      " '上野通一丁目' '赤坂通一丁目' '篠原中町六丁目' '畑原通一丁目' '畑原通二丁目' '畑原通三丁目' '赤坂通二丁目' '赤坂通三丁目'\n",
      " '天城通三丁目' '福住通三丁目' '天城通二丁目' '福住通一丁目' '福住通二丁目' '天城通一丁目' '箕岡通四丁目' '箕岡通三丁目'\n",
      " '箕岡通二丁目' '高尾通二丁目' '箕岡通一丁目' '五毛通一丁目' '高尾通一丁目' '五毛通二丁目' '五毛通三丁目' '高尾通三丁目'\n",
      " '五毛通四丁目' '高尾通四丁目' '国玉通四丁目' '薬師通四丁目' '薬師通三丁目' '国玉通三丁目' '国玉通二丁目' '薬師通二丁目'\n",
      " '薬師通一丁目' '城の下通三丁目' '城の下通二丁目' '青谷町四丁目' '城の下通一丁目' '摩耶山町' '神ノ木通三丁目'\n",
      " '神ノ木通四丁目' '神ノ木通二丁目' '神ノ木通一丁目' '六甲町五丁目' '六甲町四丁目' '六甲町二丁目' '六甲町一丁目'\n",
      " '森後町三丁目' '森後町二丁目' '六甲町三丁目' '千旦通一丁目' '千旦通二丁目' '千旦通三丁目' '千旦通四丁目' '上河原通四丁目'\n",
      " '上河原通三丁目' '上河原通一丁目' '上河原通二丁目' '稗原町四丁目' '稗原町三丁目' '稗原町二丁目' '稗原町一丁目'\n",
      " '永手町五丁目' '永手町四丁目' '篠原南町五丁目' '篠原南町四丁目' '篠原南町三丁目' '篠原南町二丁目' '篠原南町一丁目'\n",
      " '八幡町四丁目' '八幡町三丁目' '八幡町二丁目' '将軍通四丁目' '将軍通三丁目' '将軍通一丁目' '将軍通二丁目' '神前町三丁目'\n",
      " '神前町四丁目' '神前町二丁目' '神前町一丁目' '日尾町三丁目' '日尾町二丁目' '篠原本町五丁目' '篠原本町四丁目'\n",
      " '篠原本町三丁目' '篠原本町二丁目' '篠原本町一丁目' '篠原中町一丁目' '篠原中町三丁目' '篠原中町五丁目' '篠原中町四丁目'\n",
      " '篠原中町二丁目' '長峰台二丁目' '長峰台一丁目' '篠原北町四丁目' '篠原北町三丁目' '篠原伯母野山町二丁目' '大土平町二丁目'\n",
      " '大土平町一丁目' '篠原北町一丁目' '篠原北町二丁目' '六甲山町' '大石字長峰山' '篠原' '大月台' '水車新田字宮坂' '篠原台'\n",
      " '篠原伯母野山町三丁目' '篠原伯母野山町一丁目' '鶴甲三丁目' '鶴甲四丁目' '鶴甲五丁目' '鶴甲二丁目' '鶴甲一丁目' '六甲台町'\n",
      " '一王山町' '桜ケ丘町' '高羽字滝ノ奥' '土山町' '赤松町三丁目' '曾和町三丁目' '曾和町二丁目' '赤松町二丁目' '赤松町一丁目'\n",
      " '曾和町一丁目' '高羽町五丁目' '寺口町' '高羽町二丁目' '高羽町三丁目' '高羽町四丁目' '山田町一丁目' '山田町二丁目'\n",
      " '山田町三丁目' '宮山町三丁目' '宮山町二丁目' '宮山町一丁目' '高羽町一丁目' '八幡町一丁目' '楠丘町六丁目' '楠丘町五丁目'\n",
      " '楠丘町四丁目' '楠丘町三丁目' '楠丘町二丁目' '楠丘町一丁目' '高徳町一丁目' '高徳町二丁目' '高徳町三丁目' '高徳町四丁目'\n",
      " '高徳町五丁目' '高徳町六丁目' '日尾町一丁目' '森後町一丁目' '永手町三丁目' '永手町二丁目' '永手町一丁目' '弓木町五丁目'\n",
      " '弓木町四丁目' '弓木町三丁目' '弓木町一丁目' '弓木町二丁目' '灘浜町' '摩耶埠頭' '灘浜東町' '水面'] \n",
      "\n",
      "KIGO_E\n",
      "[None] \n",
      "\n",
      "HCODE\n",
      "[8101 8154] \n",
      "\n",
      "AREA\n",
      "[1.27589100e+03 1.84288500e+03 1.68015800e+03 ... 1.22232254e+06\n",
      " 7.34771069e+06 1.76953200e+03] \n",
      "\n",
      "PERIMETER\n",
      "[  148.337   206.051   201.981 ...  4845.509 19047.684   188.617] \n",
      "\n",
      "KIHON1\n",
      "['0430' '0770' '0780' '0790' '0340' '0610' '0930' '0590' '0600' '0260'\n",
      " '0710' '0350' '0170' '0130' '0470' '0180' '0850' '0480' '0680' '0810'\n",
      " '0870' '0160' '0100' '0990' '0080' '0090' '0730' '0450' '0650' '0250'\n",
      " '0190' '0050' '0620' '0420' '0290' '0500' '0140' '0010' '0120' '0020'\n",
      " '0700' '0040' '0800' '0280' '0400' '0860' '0530' '0320' '0900' '0460'\n",
      " '0830' '0230' '0970' '0890' '0510' '0210' '0740' '0630' '0910' '0440'\n",
      " '0240' '0750' '0410' '0640' '0380' '0370' '0200' '0950' '0150' '0360'\n",
      " '0980' '0490' '0390' '0570' '0960' '0060' '0330' '0540' '0560' '0030'\n",
      " '0520' '0550' '0580' '0920' '0880' '0270' '0300' '0940' '0660' '0840'\n",
      " '0670' '9990'] \n",
      "\n",
      "DUMMY1\n",
      "['-'] \n",
      "\n",
      "KIHON2\n",
      "['05' '04' '03' '01' '02' '06' '00' '07' '10' '09' '08'] \n",
      "\n",
      "KIHON3\n",
      "['020' '040' '050' '030' '060' '070' '090' '100' '080' '010' '120' '110'\n",
      " '130' '140' '150' '160' '170' '180' '190' '200' '011' '012' '210' '220'\n",
      " '230' '240' '250'] \n",
      "\n",
      "C1\n",
      "[ 2  3  4  5  6  7  8  9 10 11 12 13 14 15 16 17 18 19 20 21 22 23 24 25\n",
      " 26 27 28] \n",
      "\n",
      "C2\n",
      "[   1    2    3 ... 1246 1247 1248] \n",
      "\n",
      "DUMMY2\n",
      "['-'] \n",
      "\n",
      "C3\n",
      "[1 4 8 2 3 9] \n",
      "\n",
      "DUMMY3\n",
      "['-' None] \n",
      "\n",
      "C4\n",
      "[ 1  2  3  0  4  5  6  7  8  9 10 11 12 13 14 15 16] \n",
      "\n",
      "KIGO_A\n",
      "[None 'A3' 'A2' 'A1' 'A6' 'A4' 'A5' 'AA' 'B1' 'A7' 'A8' 'A9' 'AB' 'AH'\n",
      " 'AN' 'AI' 'AC' 'AD' 'AE' 'AF' 'D1' 'C2' 'B4' 'B5'] \n",
      "\n",
      "KIGO_D\n",
      "[None] \n",
      "\n",
      "N_KEN\n",
      "[None] \n",
      "\n",
      "N_CITY\n",
      "[None] \n",
      "\n",
      "N_C1\n",
      "[0] \n",
      "\n",
      "KIGO_I\n",
      "[None] \n",
      "\n",
      "KEYCODE1\n",
      "['1020001-1-01' '1020001-1-02' '1020001-1-03' ... '1021246-3-00'\n",
      " '1021247-9-00' '1021248-4-00'] \n",
      "\n",
      "JINKO\n",
      "[ 18  56  33  68  54 110 108  34  49  38  14  15  37  52   0  42  35  79\n",
      "  62  28  59 101  46 133 114 116  67 111 102  40  27  66 107  91  64  22\n",
      "  21  43  12  69  63  65 129  80  26 171 128   4  88  78 103 112  70  10\n",
      "  31  84  90  72 118  89  83 119 125 104 143  25  73 151 176  30 131 204\n",
      " 181  94  47  48  93  85  86 124 123 177  95 122  87 132 137 185 115  58\n",
      "  97 147  29  75  99 174 153 109  76 106 208  55  57  60  16 278 127 149\n",
      " 168  24 136  74  71 148  20  41 121 126  77 120 161  36  45  44  51  32\n",
      "  50  53  61  96 117 178 188 205   8  13 158 140 130  81 195 182 156   5\n",
      "   2   7   6  39  17  19  23 167 164   9 100 157 200  82   3 139 172  98\n",
      "   1 163 159 141 242 196 217 165 219 193 150 191 194 154 183 186 113 202\n",
      " 134 105 160 180 145  11 220 244 138  92 210 144 135 170 199 142 146 192\n",
      " 166 155 237] \n",
      "\n",
      "SETAI\n",
      "[ 10  30  27  36  31  63  73  16  25  21  12  19  45  46   0  33   9  58\n",
      "  24  18  20  72  22  65  53  49  40  55  60  57  52  62  56  17  14  28\n",
      "  11  34  51   6  37  47  38  61  43  32   2  64  80  29  35   4  44  86\n",
      "  75  54  48  66  13  59   1  71  76  41  23  67  39  70  50  82  68  26\n",
      "   5  88  69  15   7  83  87  81   8   3  42  78  85  90 154 183  77  84\n",
      " 111  74  96  97  79 102  89  98  95] \n",
      "\n",
      "KEN_OLD\n",
      "['28'] \n",
      "\n",
      "CITY_OLD\n",
      "['102'] \n",
      "\n",
      "X_CODE\n",
      "[135.231086 135.231764 135.231686 ... 135.245624 135.238012 135.24271 ] \n",
      "\n",
      "Y_CODE\n",
      "[34.710639 34.710687 34.710877 ... 34.703782 34.683004 34.731847] \n",
      "\n",
      "KCODE1\n",
      "['0430-05020' '0430-04040' '0430-04050' ... '0840-00010' '0670-00010'\n",
      " '9990-00010'] \n",
      "\n",
      "CCODE1\n",
      "['1-1- 1' '1-1- 2' '1-1- 3' ... '1246-3' '1247-9' '1248-4'] \n",
      "\n",
      "geometry\n",
      "<GeometryArray>\n",
      "[<shapely.geometry.polygon.Polygon object at 0xffff40576d70>,\n",
      " <shapely.geometry.polygon.Polygon object at 0xffff40576da0>,\n",
      " <shapely.geometry.polygon.Polygon object at 0xffff40576dd0>,\n",
      " <shapely.geometry.polygon.Polygon object at 0xffff40576e00>,\n",
      " <shapely.geometry.polygon.Polygon object at 0xffff40576e30>,\n",
      " <shapely.geometry.polygon.Polygon object at 0xffff40576e60>,\n",
      " <shapely.geometry.polygon.Polygon object at 0xffff40576e90>,\n",
      " <shapely.geometry.polygon.Polygon object at 0xffff40576ec0>,\n",
      " <shapely.geometry.polygon.Polygon object at 0xffff40576ef0>,\n",
      " <shapely.geometry.polygon.Polygon object at 0xffff40576f20>,\n",
      " ...\n",
      " <shapely.geometry.polygon.Polygon object at 0xffff404713c0>,\n",
      " <shapely.geometry.polygon.Polygon object at 0xffff404713f0>,\n",
      " <shapely.geometry.polygon.Polygon object at 0xffff40471420>,\n",
      " <shapely.geometry.polygon.Polygon object at 0xffff40471450>,\n",
      " <shapely.geometry.polygon.Polygon object at 0xffff40471480>,\n",
      " <shapely.geometry.polygon.Polygon object at 0xffff404714b0>,\n",
      " <shapely.geometry.polygon.Polygon object at 0xffff404714e0>,\n",
      " <shapely.geometry.polygon.Polygon object at 0xffff40471510>,\n",
      " <shapely.geometry.polygon.Polygon object at 0xffff40471540>,\n",
      " <shapely.geometry.polygon.Polygon object at 0xffff40471570>]\n",
      "Length: 2252, dtype: geometry \n",
      "\n"
     ]
    }
   ],
   "source": [
    "for col in gdf_hyogo_kobe_nada.columns.values:\n",
    "    print(col)\n",
    "    print(gdf_hyogo_kobe_nada[col].unique(), '\\n')"
   ]
  },
  {
   "cell_type": "code",
   "execution_count": null,
   "id": "be52af38-5dc5-4bc6-b64b-288dc0a04a63",
   "metadata": {},
   "outputs": [],
   "source": []
  },
  {
   "cell_type": "code",
   "execution_count": null,
   "id": "e6b9554a-fc5e-4a03-94fc-99fbd4fcb0da",
   "metadata": {},
   "outputs": [],
   "source": []
  },
  {
   "cell_type": "code",
   "execution_count": null,
   "id": "3e4a3ba1-ce89-4dbc-8a16-c86e0429b5cb",
   "metadata": {},
   "outputs": [],
   "source": []
  },
  {
   "cell_type": "code",
   "execution_count": null,
   "id": "1a101582-d791-41a8-ab8c-31c006a75bd4",
   "metadata": {},
   "outputs": [],
   "source": []
  },
  {
   "cell_type": "markdown",
   "id": "dba33ff5-d30c-4da9-914c-2a5b32ad3a03",
   "metadata": {
    "tags": []
   },
   "source": [
    "## 中央区の境界データ"
   ]
  },
  {
   "cell_type": "code",
   "execution_count": 70,
   "id": "bdbb9eab-7e28-4fa4-b0ee-75ca21130c66",
   "metadata": {},
   "outputs": [
    {
     "data": {
      "text/html": [
       "<div>\n",
       "<style scoped>\n",
       "    .dataframe tbody tr th:only-of-type {\n",
       "        vertical-align: middle;\n",
       "    }\n",
       "\n",
       "    .dataframe tbody tr th {\n",
       "        vertical-align: top;\n",
       "    }\n",
       "\n",
       "    .dataframe thead th {\n",
       "        text-align: right;\n",
       "    }\n",
       "</style>\n",
       "<table border=\"1\" class=\"dataframe\">\n",
       "  <thead>\n",
       "    <tr style=\"text-align: right;\">\n",
       "      <th></th>\n",
       "      <th>KEY_CODE</th>\n",
       "      <th>PREF</th>\n",
       "      <th>CITY</th>\n",
       "      <th>K_AREA</th>\n",
       "      <th>S_AREA</th>\n",
       "      <th>PREF_NAME</th>\n",
       "      <th>CITY_NAME</th>\n",
       "      <th>S_NAME</th>\n",
       "      <th>KIGO_E</th>\n",
       "      <th>HCODE</th>\n",
       "      <th>...</th>\n",
       "      <th>KEYCODE1</th>\n",
       "      <th>JINKO</th>\n",
       "      <th>SETAI</th>\n",
       "      <th>KEN_OLD</th>\n",
       "      <th>CITY_OLD</th>\n",
       "      <th>X_CODE</th>\n",
       "      <th>Y_CODE</th>\n",
       "      <th>KCODE1</th>\n",
       "      <th>CCODE1</th>\n",
       "      <th>geometry</th>\n",
       "    </tr>\n",
       "  </thead>\n",
       "  <tbody>\n",
       "    <tr>\n",
       "      <th>0</th>\n",
       "      <td>281100001101</td>\n",
       "      <td>28</td>\n",
       "      <td>110</td>\n",
       "      <td>027004060</td>\n",
       "      <td>0001101</td>\n",
       "      <td>兵庫県</td>\n",
       "      <td>神戸市中央区</td>\n",
       "      <td>琴ノ緒町四丁目</td>\n",
       "      <td>None</td>\n",
       "      <td>8101</td>\n",
       "      <td>...</td>\n",
       "      <td>1100001-1-01</td>\n",
       "      <td>47</td>\n",
       "      <td>29</td>\n",
       "      <td>28</td>\n",
       "      <td>110</td>\n",
       "      <td>135.195601</td>\n",
       "      <td>34.697033</td>\n",
       "      <td>0270-04060</td>\n",
       "      <td>1-1- 1</td>\n",
       "      <td>POLYGON ((135.19564 34.69729, 135.19588 34.696...</td>\n",
       "    </tr>\n",
       "    <tr>\n",
       "      <th>1</th>\n",
       "      <td>281100001102</td>\n",
       "      <td>28</td>\n",
       "      <td>110</td>\n",
       "      <td>027004070</td>\n",
       "      <td>0001102</td>\n",
       "      <td>兵庫県</td>\n",
       "      <td>神戸市中央区</td>\n",
       "      <td>琴ノ緒町四丁目</td>\n",
       "      <td>None</td>\n",
       "      <td>8101</td>\n",
       "      <td>...</td>\n",
       "      <td>1100001-1-02</td>\n",
       "      <td>36</td>\n",
       "      <td>26</td>\n",
       "      <td>28</td>\n",
       "      <td>110</td>\n",
       "      <td>135.195201</td>\n",
       "      <td>34.696869</td>\n",
       "      <td>0270-04070</td>\n",
       "      <td>1-1- 2</td>\n",
       "      <td>POLYGON ((135.19556 34.69678, 135.19538 34.696...</td>\n",
       "    </tr>\n",
       "  </tbody>\n",
       "</table>\n",
       "<p>2 rows × 38 columns</p>\n",
       "</div>"
      ],
      "text/plain": [
       "       KEY_CODE PREF CITY     K_AREA   S_AREA PREF_NAME CITY_NAME   S_NAME  \\\n",
       "0  281100001101   28  110  027004060  0001101       兵庫県    神戸市中央区  琴ノ緒町四丁目   \n",
       "1  281100001102   28  110  027004070  0001102       兵庫県    神戸市中央区  琴ノ緒町四丁目   \n",
       "\n",
       "  KIGO_E  HCODE  ...      KEYCODE1  JINKO SETAI KEN_OLD CITY_OLD      X_CODE  \\\n",
       "0   None   8101  ...  1100001-1-01     47    29      28      110  135.195601   \n",
       "1   None   8101  ...  1100001-1-02     36    26      28      110  135.195201   \n",
       "\n",
       "      Y_CODE      KCODE1  CCODE1  \\\n",
       "0  34.697033  0270-04060  1-1- 1   \n",
       "1  34.696869  0270-04070  1-1- 2   \n",
       "\n",
       "                                            geometry  \n",
       "0  POLYGON ((135.19564 34.69729, 135.19588 34.696...  \n",
       "1  POLYGON ((135.19556 34.69678, 135.19538 34.696...  \n",
       "\n",
       "[2 rows x 38 columns]"
      ]
     },
     "execution_count": 70,
     "metadata": {},
     "output_type": "execute_result"
    }
   ],
   "source": [
    "gdf_hyogo_kobe_chuo = gpd.read_file(\"./assets/border/Hyogo/Chuo/r2kb28110.shp\")\n",
    "gdf_hyogo_kobe_chuo.head(2)"
   ]
  },
  {
   "cell_type": "code",
   "execution_count": 71,
   "id": "66146c81-9cb3-457e-8d89-53e01b593464",
   "metadata": {},
   "outputs": [
    {
     "data": {
      "text/plain": [
       "array(['港島一丁目', '港島二丁目', '港島三丁目', '港島四丁目', '港島五丁目', '港島六丁目', '港島七丁目',\n",
       "       '港島八丁目', '港島九丁目', '港島中町一丁目', '港島中町二丁目', '港島中町四丁目', '港島中町五丁目',\n",
       "       '港島南町一丁目', '港島南町二丁目', '港島南町三丁目', '港島南町四丁目', '港島南町五丁目', '港島南町六丁目',\n",
       "       '港島南町七丁目', '港島中町六丁目', '港島中町七丁目', '港島中町八丁目', '港島中町三丁目'],\n",
       "      dtype=object)"
      ]
     },
     "execution_count": 71,
     "metadata": {},
     "output_type": "execute_result"
    }
   ],
   "source": [
    "# ポートアイランドの町丁一覧\n",
    "gdf_hyogo_kobe_chuo[gdf_hyogo_kobe_chuo['S_NAME'].str.contains('港島')]['S_NAME'].unique()"
   ]
  },
  {
   "cell_type": "code",
   "execution_count": 72,
   "id": "2c3dccb0-2d71-4dc5-93e2-a07d45fc21c5",
   "metadata": {
    "tags": []
   },
   "outputs": [
    {
     "name": "stdout",
     "output_type": "stream",
     "text": [
      "KEY_CODE\n",
      "['281101411301' '2811014121' '2811014131' '2811014141' '2811014151'\n",
      " '2811014161' '2811014171' '2811014181' '2811014191' '2811014201'\n",
      " '2811014211' '2811014221'] \n",
      "\n",
      "PREF\n",
      "['28'] \n",
      "\n",
      "CITY\n",
      "['110'] \n",
      "\n",
      "K_AREA\n",
      "['065001010'] \n",
      "\n",
      "S_AREA\n",
      "['1411301' '14121' '14131' '14141' '14151' '14161' '14171' '14181' '14191'\n",
      " '14201' '14211' '14221'] \n",
      "\n",
      "PREF_NAME\n",
      "['兵庫県'] \n",
      "\n",
      "CITY_NAME\n",
      "['神戸市中央区'] \n",
      "\n",
      "S_NAME\n",
      "['港島一丁目'] \n",
      "\n",
      "KIGO_E\n",
      "[None] \n",
      "\n",
      "HCODE\n",
      "[8101] \n",
      "\n",
      "AREA\n",
      "[7.40669763e+05 1.03325400e+03 2.01883400e+03 1.18049900e+03\n",
      " 4.50793000e+02 3.43006000e+02 3.31766000e+02 6.34340000e+02\n",
      " 5.05792000e+02 4.80497000e+02 8.34379000e+02 9.69815000e+02] \n",
      "\n",
      "PERIMETER\n",
      "[5089.036  129.478  216.338  149.968   87.015   78.681   77.661  100.791\n",
      "   90.742   88.653  136.294  160.32 ] \n",
      "\n",
      "KIHON1\n",
      "['0650'] \n",
      "\n",
      "DUMMY1\n",
      "['-'] \n",
      "\n",
      "KIHON2\n",
      "['01'] \n",
      "\n",
      "KIHON3\n",
      "['010'] \n",
      "\n",
      "C1\n",
      "[22] \n",
      "\n",
      "C2\n",
      "[1411 1412 1413 1414 1415 1416 1417 1418 1419 1420 1421 1422] \n",
      "\n",
      "DUMMY2\n",
      "['-'] \n",
      "\n",
      "C3\n",
      "[3 1] \n",
      "\n",
      "DUMMY3\n",
      "['-' None] \n",
      "\n",
      "C4\n",
      "[1 0] \n",
      "\n",
      "KIGO_A\n",
      "[None 'BE' 'BF' 'BG' 'BC' 'BD' 'A6'] \n",
      "\n",
      "KIGO_D\n",
      "[None] \n",
      "\n",
      "N_KEN\n",
      "[None] \n",
      "\n",
      "N_CITY\n",
      "[None] \n",
      "\n",
      "N_C1\n",
      "[0] \n",
      "\n",
      "KIGO_I\n",
      "[None] \n",
      "\n",
      "KEYCODE1\n",
      "['1101411-3-01' '1101412-1-00' '1101413-1-00' '1101414-1-00'\n",
      " '1101415-1-00' '1101416-1-00' '1101417-1-00' '1101418-1-00'\n",
      " '1101419-1-00' '1101420-1-00' '1101421-1-00' '1101422-1-00'] \n",
      "\n",
      "JINKO\n",
      "[  0 116 136 134  86  59  58  83  60  79] \n",
      "\n",
      "SETAI\n",
      "[ 0 53 51 61 78 59 58 83 60 73] \n",
      "\n",
      "KEN_OLD\n",
      "['28'] \n",
      "\n",
      "CITY_OLD\n",
      "['110'] \n",
      "\n",
      "X_CODE\n",
      "[135.204789 135.202344 135.20243  135.202634 135.203159 135.20317\n",
      " 135.203178 135.203191 135.203203 135.203218 135.204611 135.20397 ] \n",
      "\n",
      "Y_CODE\n",
      "[34.663709 34.672485 34.672125 34.671912 34.672678 34.672536 34.672427\n",
      " 34.672258 34.672095 34.671888 34.671876 34.671855] \n",
      "\n",
      "KCODE1\n",
      "['0650-01010'] \n",
      "\n",
      "CCODE1\n",
      "['1411-3- 1' '1412-1' '1413-1' '1414-1' '1415-1' '1416-1' '1417-1'\n",
      " '1418-1' '1419-1' '1420-1' '1421-1' '1422-1'] \n",
      "\n",
      "geometry\n",
      "<GeometryArray>\n",
      "[<shapely.geometry.polygon.Polygon object at 0xffff3814b070>,\n",
      " <shapely.geometry.polygon.Polygon object at 0xffff3800b6a0>,\n",
      " <shapely.geometry.polygon.Polygon object at 0xffff3800a6b0>,\n",
      " <shapely.geometry.polygon.Polygon object at 0xffff3804c190>,\n",
      " <shapely.geometry.polygon.Polygon object at 0xffff38011510>,\n",
      " <shapely.geometry.polygon.Polygon object at 0xffff38010a30>,\n",
      " <shapely.geometry.polygon.Polygon object at 0xffff38010400>,\n",
      " <shapely.geometry.polygon.Polygon object at 0xffff80311ba0>,\n",
      " <shapely.geometry.polygon.Polygon object at 0xffff37feb7f0>,\n",
      " <shapely.geometry.polygon.Polygon object at 0xffff37fe9b70>,\n",
      " <shapely.geometry.polygon.Polygon object at 0xffff37edd7e0>,\n",
      " <shapely.geometry.polygon.Polygon object at 0xffff37edc310>]\n",
      "Length: 12, dtype: geometry \n",
      "\n"
     ]
    }
   ],
   "source": [
    "gdf_hyogo_kobe_chuo[gdf_hyogo_kobe_chuo['S_NAME']=='港島一丁目']\n",
    "\n",
    "for col in gdf_hyogo_kobe_chuo.columns.values:\n",
    "    print(col)\n",
    "    print(gdf_hyogo_kobe_chuo[gdf_hyogo_kobe_chuo['S_NAME']=='港島一丁目'][col].unique(), '\\n')"
   ]
  },
  {
   "cell_type": "code",
   "execution_count": 73,
   "id": "46ca2788-d8cb-40a0-bf60-039a6a8f0a34",
   "metadata": {},
   "outputs": [
    {
     "data": {
      "text/plain": [
       "2439    POLYGON ((135.20702 34.67184, 135.20745 34.666...\n",
       "2460    POLYGON ((135.20251 34.67233, 135.20220 34.672...\n",
       "2461    POLYGON ((135.20243 34.67199, 135.20240 34.671...\n",
       "2462    POLYGON ((135.20233 34.67184, 135.20240 34.671...\n",
       "2463    POLYGON ((135.20331 34.67261, 135.20302 34.672...\n",
       "2464    POLYGON ((135.20332 34.67249, 135.20303 34.672...\n",
       "2465    POLYGON ((135.20332 34.67238, 135.20304 34.672...\n",
       "2466    POLYGON ((135.20334 34.67216, 135.20306 34.672...\n",
       "2467    POLYGON ((135.20335 34.67198, 135.20307 34.671...\n",
       "2468    POLYGON ((135.20307 34.67197, 135.20335 34.671...\n",
       "2469    POLYGON ((135.20433 34.67180, 135.20433 34.671...\n",
       "2470    POLYGON ((135.20433 34.67180, 135.20362 34.671...\n",
       "Name: geometry, dtype: geometry"
      ]
     },
     "execution_count": 73,
     "metadata": {},
     "output_type": "execute_result"
    }
   ],
   "source": [
    "gdf_hyogo_kobe_chuo[gdf_hyogo_kobe_chuo['S_NAME']=='港島一丁目']['geometry']"
   ]
  },
  {
   "cell_type": "code",
   "execution_count": 74,
   "id": "45fbdffd-11e6-4b19-8c7e-9468ea27357b",
   "metadata": {},
   "outputs": [
    {
     "data": {
      "image/png": "[encoded data removed]",
      "text/plain": [
       "<Figure size 720x720 with 1 Axes>"
      ]
     },
     "metadata": {
      "needs_background": "light"
     },
     "output_type": "display_data"
    }
   ],
   "source": [
    "pisland_1_geo= gdf_hyogo_kobe_chuo[gdf_hyogo_kobe_chuo['S_NAME']=='港島一丁目']['geometry']\n",
    "ax = pisland_1_geo.plot(figsize=(10, 10), alpha=0.5, edgecolor='k')"
   ]
  },
  {
   "cell_type": "markdown",
   "id": "2f246020-9307-489e-8ad5-f2d7d8734750",
   "metadata": {},
   "source": [
    "↑変な図形が内側に、11個入っている。"
   ]
  },
  {
   "cell_type": "code",
   "execution_count": 75,
   "id": "63506105-5a4a-4227-a264-81589e783496",
   "metadata": {},
   "outputs": [
    {
     "data": {
      "image/svg+xml": [
       "<svg xmlns=\"http://www.w3.org/2000/svg\" xmlns:xlink=\"http://www.w3.org/1999/xlink\" width=\"100.0\" height=\"100.0\" viewBox=\"135.2008851246209 34.65729203868315 0.00727465131976146 0.016275345786795015\" preserveAspectRatio=\"xMinYMin meet\"><g transform=\"matrix(1,0,0,-1,0,69.3308594231531)\"><path fill-rule=\"evenodd\" fill=\"#66cc99\" stroke=\"#555555\" stroke-width=\"0.0003255069157359003\" opacity=\"0.6\" d=\"M 135.20701812107163,34.67183872468679 L 135.20745359591865,34.66603681892329 L 135.20755698535595,34.661341609787485 L 135.20748465580624,34.660947731705775 L 135.20739690721248,34.66090328791278 L 135.2073500450664,34.660856296740626 L 135.2072444405931,34.660669997911356 L 135.20704008911505,34.660171143462236 L 135.20694537178642,34.65998251248291 L 135.20683981670166,34.65980072030863 L 135.20663491981023,34.65950920952204 L 135.20647190371076,34.659309799682816 L 135.2062897501269,34.659106019474855 L 135.20607494111164,34.65890923425358 L 135.20571186781441,34.65861885596697 L 135.20550581041255,34.65847609582594 L 135.2052806865566,34.65833572562624 L 135.2050584796798,34.65821336372705 L 135.20484473858383,34.65811798522347 L 135.204603701908,34.65802054803772 L 135.20422054239933,34.657894829267846 L 135.20415613011468,34.65929709297478 L 135.20364314061877,34.65927597162429 L 135.20343755660997,34.659178278646166 L 135.20310005009333,34.65898461894852 L 135.20277531551912,34.65896890955717 L 135.20257298390268,34.65918220281088 L 135.20254345486615,34.65922748775307 L 135.20234697250308,34.659217622317954 L 135.2022277351203,34.66137977395377 L 135.20166995557457,34.66986895233869 L 135.2014879152056,34.67281133424491 L 135.205584148472,34.672964593885254 L 135.20566438082503,34.67177180989311 L 135.20701812107163,34.67183872468679 z M 135.2043273233956,34.67179938850524 L 135.20489776451586,34.671813361832676 L 135.20489165366305,34.671962150011204 L 135.20432519472914,34.67193907740444 L 135.20361223128086,34.67191003351643 L 135.2036163462372,34.67178196557 L 135.2043273233956,34.67179938850524 z M 135.20242622054204,34.67198871007877 L 135.2024409246764,34.67206740710368 L 135.20287091493154,34.67217943838145 L 135.20286169202444,34.672340869648416 L 135.2025098583559,34.67232771326327 L 135.20248942426392,34.67265399799795 L 135.20218138256095,34.67264153150111 L 135.20219525550158,34.67231623838807 L 135.202215821598,34.67183396136536 L 135.20232738652842,34.67183670764486 L 135.20233338808694,34.67176405218362 L 135.20286621636959,34.671780519700555 L 135.20284599129252,34.67205495794901 L 135.20242622054204,34.67198871007877 z M 135.20306710934724,34.6720353922804 L 135.2030727691537,34.671965842472154 L 135.20308676434823,34.67179373965968 L 135.20336235532014,34.671809896759164 L 135.2033510773616,34.67197780895469 L 135.20334639830182,34.672047439249134 L 135.2033391049833,34.67215598937227 L 135.2033241291063,34.672378855953966 L 135.2033164538522,34.672493106883785 L 135.20331281882804,34.67254719203167 L 135.20330844342203,34.672612305588714 L 135.20329815882891,34.672765379464416 L 135.2030095038335,34.67274361915342 L 135.20302199874868,34.67259003815825 L 135.203027306409,34.67252476278655 L 135.20303140757832,34.67247434703718 L 135.2030406983423,34.672360104387174 L 135.20305840270075,34.67214244048211 L 135.20306710934724,34.6720353922804 z\" /></g></svg>"
      ],
      "text/plain": [
       "<shapely.geometry.polygon.Polygon at 0xffff380a3d60>"
      ]
     },
     "execution_count": 75,
     "metadata": {},
     "output_type": "execute_result"
    }
   ],
   "source": [
    "pisland_1_geo.values[0]"
   ]
  },
  {
   "cell_type": "markdown",
   "id": "188978ad-f45d-44e7-b1e2-e31ca4a3ca84",
   "metadata": {},
   "source": [
    "↑12個あるうちの最初のPolygonだけを出力しても、内部に変な形が見られる。"
   ]
  },
  {
   "cell_type": "code",
   "execution_count": 76,
   "id": "806f19ac-92bf-4af9-ac12-ab49633c8337",
   "metadata": {},
   "outputs": [
    {
     "name": "stdout",
     "output_type": "stream",
     "text": [
      "POLYGON ((135.20701812107163 34.67183872468679, 135.20745359591865 34.66603681892329, 135.20755698535595 34.661341609787485, 135.20748465580624 34.660947731705775, 135.20739690721248 34.66090328791278, 135.2073500450664 34.660856296740626, 135.2072444405931 34.660669997911356, 135.20704008911505 34.660171143462236, 135.20694537178642 34.65998251248291, 135.20683981670166 34.65980072030863, 135.20663491981023 34.65950920952204, 135.20647190371076 34.659309799682816, 135.2062897501269 34.659106019474855, 135.20607494111164 34.65890923425358, 135.20571186781441 34.65861885596697, 135.20550581041255 34.65847609582594, 135.2052806865566 34.65833572562624, 135.2050584796798 34.65821336372705, 135.20484473858383 34.65811798522347, 135.204603701908 34.65802054803772, 135.20422054239933 34.657894829267846, 135.20415613011468 34.65929709297478, 135.20364314061877 34.65927597162429, 135.20343755660997 34.659178278646166, 135.20310005009333 34.65898461894852, 135.20277531551912 34.65896890955717, 135.20257298390268 34.65918220281088, 135.20254345486615 34.65922748775307, 135.20234697250308 34.659217622317954, 135.2022277351203 34.66137977395377, 135.20166995557457 34.66986895233869, 135.2014879152056 34.67281133424491, 135.205584148472 34.672964593885254, 135.20566438082503 34.67177180989311, 135.20701812107163 34.67183872468679), (135.2043273233956 34.67179938850524, 135.20489776451586 34.671813361832676, 135.20489165366305 34.671962150011204, 135.20432519472914 34.67193907740444, 135.20361223128086 34.67191003351643, 135.2036163462372 34.67178196557, 135.2043273233956 34.67179938850524), (135.20242622054204 34.67198871007877, 135.2024409246764 34.67206740710368, 135.20287091493154 34.67217943838145, 135.20286169202444 34.672340869648416, 135.2025098583559 34.67232771326327, 135.20248942426392 34.67265399799795, 135.20218138256095 34.67264153150111, 135.20219525550158 34.67231623838807, 135.202215821598 34.67183396136536, 135.20232738652842 34.67183670764486, 135.20233338808694 34.67176405218362, 135.20286621636959 34.671780519700555, 135.20284599129252 34.67205495794901, 135.20242622054204 34.67198871007877), (135.20306710934724 34.6720353922804, 135.2030727691537 34.671965842472154, 135.20308676434823 34.67179373965968, 135.20336235532014 34.671809896759164, 135.2033510773616 34.67197780895469, 135.20334639830182 34.672047439249134, 135.2033391049833 34.67215598937227, 135.2033241291063 34.672378855953966, 135.2033164538522 34.672493106883785, 135.20331281882804 34.67254719203167, 135.20330844342203 34.672612305588714, 135.20329815882891 34.672765379464416, 135.2030095038335 34.67274361915342, 135.20302199874868 34.67259003815825, 135.203027306409 34.67252476278655, 135.20303140757832 34.67247434703718, 135.2030406983423 34.672360104387174, 135.20305840270075 34.67214244048211, 135.20306710934724 34.6720353922804))\n"
     ]
    }
   ],
   "source": [
    "print(pisland_1_geo.values[0])"
   ]
  },
  {
   "cell_type": "code",
   "execution_count": null,
   "id": "5c66bc6a-fd3a-475f-87d7-18ddfdc7b8d6",
   "metadata": {},
   "outputs": [],
   "source": []
  },
  {
   "cell_type": "code",
   "execution_count": 77,
   "id": "9d7ed84e-6fc7-4682-a966-2b89c23db555",
   "metadata": {},
   "outputs": [
    {
     "data": {
      "image/png": "[encoded data removed]",
      "text/plain": [
       "<Figure size 576x432 with 2 Axes>"
      ]
     },
     "metadata": {
      "needs_background": "light"
     },
     "output_type": "display_data"
    }
   ],
   "source": [
    "x,y = pisland_1_geo.values[0].exterior.xy\n",
    "\n",
    "fig = plt.figure(figsize=(8, 6))\n",
    "\n",
    "ax1 = fig.add_subplot(1,3,1)\n",
    "ax1.plot(x,y)\n",
    "\n",
    "ax2 = fig.add_subplot(1,3,3)\n",
    "ax2.scatter(x, y)\n",
    "\n",
    "\n",
    "# X軸の数字をオフセットを使わずに表現する\n",
    "ax1.get_xaxis().get_major_formatter().set_useOffset(False)\n",
    "ax2.get_xaxis().get_major_formatter().set_useOffset(False)\n",
    "\n",
    "ax1.tick_params(axis=\"x\", rotation=20)\n",
    "ax2.tick_params(axis=\"x\", rotation=20)"
   ]
  },
  {
   "cell_type": "markdown",
   "id": "e19a2979-a84c-477c-9dfd-38d21da4458e",
   "metadata": {},
   "source": [
    "↑しかし、matplot で出力すると、内部の変な形は見えない。（この方法で可視化すべし。）"
   ]
  },
  {
   "cell_type": "markdown",
   "id": "8a92ce2c-5f34-476c-9a73-e30d28c1ad87",
   "metadata": {},
   "source": [
    "### 港島のデータを用いて、ある点がの対象地域における内外判定を行う。\n",
    "\n",
    "[内外判定のロジック]  \n",
    "- ある点から横に直線Aを引く。\n",
    "- Max（境界座標間の垂直距離） ÷2 +1 の幅を持って、直線Aから対象の境界座標群をpick up.\n",
    "- 各境界座標毎に、その次の境界座標と線を結ぶ。\n",
    "    -　元データがおそらく、時計回り or 半時計周りにデータが並んでいるので、元のデータ配列的に\"両隣\" & \"次\"。\n",
    "    - この結ぶ線は、右周りに結んでも、左回りに結んでも変わらない。\n",
    "- 各線と、直線Aが交差しているかを判定する。\n",
    "- その本数によって、内外判定を行う。\n",
    "\n",
    "\n",
    "- ある点から縦に直線を引く。\n",
    "- 以下、同文。\n",
    "\n"
   ]
  },
  {
   "cell_type": "markdown",
   "id": "93dfb040-bfa6-48bd-a93a-5ff249487225",
   "metadata": {},
   "source": [
    "[データ上の注意]：\n",
    "- x座標、y座標共に、配列の最初の値と最後の値が同じ座標を示している。"
   ]
  },
  {
   "cell_type": "code",
   "execution_count": 145,
   "id": "b217d42d-ac36-40f9-b0d8-e0dcef7bd973",
   "metadata": {},
   "outputs": [
    {
     "name": "stdout",
     "output_type": "stream",
     "text": [
      "135.20536577421848 34.660671329927396\n"
     ]
    },
    {
     "data": {
      "image/png": "[encoded data removed]",
      "text/plain": [
       "<Figure size 2880x1440 with 2 Axes>"
      ]
     },
     "metadata": {
      "needs_background": "light"
     },
     "output_type": "display_data"
    }
   ],
   "source": [
    "def random_float_between2(start, end):\n",
    "    v = random.uniform(start, end)\n",
    "    return v\n",
    "\n",
    "\n",
    "\n",
    "# get a random coordinate.\n",
    "random_x = random_float_between2(min(x), max(x))\n",
    "random_y = random_float_between2(min(y), max(y))\n",
    "\n",
    "\n",
    "print(random_x, random_y)\n",
    "\n",
    "\n",
    "x,y = pisland_1_geo.values[0].exterior.xy\n",
    "fig = plt.figure(figsize=(40, 20))\n",
    "\n",
    "ax1 = fig.add_subplot(1,2,1)\n",
    "ax1.plot(x,y, label=\"border\")\n",
    "ax1.scatter(random_x, random_y, color=\"orange\", label=\"random point\")\n",
    "ax1.hlines(random_y, min(x)-0.001, max(x)+0.001, color=\"orange\", linestyles=\"dashed\")\n",
    "ax1.vlines(random_x, min(y)-0.001, max(y)+0.001, color=\"orange\", linestyles=\"dashed\")\n",
    "ax1.legend(bbox_to_anchor=(1.05, 1.0), loc='upper left')\n",
    "\n",
    "ax2 = fig.add_subplot(1,2,2)\n",
    "ax2.scatter(x, y, label=\"border\")\n",
    "ax2.scatter(random_x, random_y, color=\"orange\", label=\"random point\")\n",
    "ax2.hlines(random_y, min(x)-0.001, max(x)+0.001, color=\"orange\", linestyles=\"dashed\")\n",
    "ax2.vlines(random_x, min(y)-0.001, max(y)+0.001, color=\"orange\", linestyles=\"dashed\")\n",
    "ax2.legend(bbox_to_anchor=(1.05, 1.0), loc='upper left')\n",
    "\n",
    "# X軸の数字をオフセットを使わずに表現する\n",
    "ax1.get_xaxis().get_major_formatter().set_useOffset(False)\n",
    "ax2.get_xaxis().get_major_formatter().set_useOffset(False)\n",
    "\n",
    "ax1.tick_params(axis=\"x\", rotation=20)\n",
    "ax2.tick_params(axis=\"x\", rotation=20)"
   ]
  },
  {
   "cell_type": "code",
   "execution_count": null,
   "id": "338d96a5-9d22-4039-9b9b-647e05fe6c69",
   "metadata": {},
   "outputs": [],
   "source": []
  },
  {
   "cell_type": "code",
   "execution_count": 146,
   "id": "f7b14f23-b0a3-4c44-8b27-1c9ffcc50cb0",
   "metadata": {},
   "outputs": [
    {
     "data": {
      "image/png": "[encoded data removed]",
      "text/plain": [
       "<Figure size 2880x1440 with 2 Axes>"
      ]
     },
     "metadata": {
      "needs_background": "light"
     },
     "output_type": "display_data"
    }
   ],
   "source": [
    "# 以下、 random_x, random_y の値を上記と同じにする。\n",
    "\n",
    "colors = [\"green\", \"red\", \"tab:blue\", \"orange\", \"purple\", \"yellow\", \"pink\"]\n",
    "\n",
    "x,y = pisland_1_geo.values[0].exterior.xy\n",
    "fig = plt.figure(figsize=(40, 20))\n",
    "\n",
    "ax1 = fig.add_subplot(1,2,1)\n",
    "ax1.plot(x,y, label=\"border\")\n",
    "ax1.scatter(random_x, random_y, color=\"orange\", label=\"random point\")   \n",
    "ax1.hlines(random_y, min(x)-0.001, max(x)+0.001, color=\"orange\", linestyles=\"dashed\")\n",
    "ax1.vlines(random_x, min(y)-0.001, max(y)+0.001, color=\"orange\", linestyles=\"dashed\")\n",
    "\n",
    "for index in range(0, len(x)-1):\n",
    "    color_index = index % (len(colors)-1)\n",
    "    color = colors[color_index]\n",
    "    ax1.plot([x[index], x[index+1]], [y[index], y[index+1]], linewidth=5, color=color)\n",
    "\n",
    "ax1.legend(bbox_to_anchor=(1.05, 1.0), loc='upper left')\n",
    "\n",
    "\n",
    "ax2 = fig.add_subplot(1,2,2)\n",
    "ax2.scatter(x, y, label=\"border\")\n",
    "ax2.scatter(random_x, random_y, color=\"orange\", label=\"random point\")\n",
    "ax2.hlines(random_y, min(x)-0.001, max(x)+0.001, color=\"orange\", linestyles=\"dashed\")\n",
    "ax2.vlines(random_x, min(y)-0.001, max(y)+0.001, color=\"orange\", linestyles=\"dashed\")\n",
    "ax2.legend(bbox_to_anchor=(1.05, 1.0), loc='upper left')\n",
    "\n",
    "# X軸の数字をオフセットを使わずに表現する\n",
    "ax1.get_xaxis().get_major_formatter().set_useOffset(False)\n",
    "ax2.get_xaxis().get_major_formatter().set_useOffset(False)\n",
    "\n",
    "ax1.tick_params(axis=\"x\", rotation=20)\n",
    "ax2.tick_params(axis=\"x\", rotation=20)"
   ]
  },
  {
   "cell_type": "code",
   "execution_count": 147,
   "id": "a58f5fc4-e0d8-4536-b892-6d4175dba6be",
   "metadata": {},
   "outputs": [],
   "source": [
    "# 線が交差しているかどうかの判定：\n",
    "\n",
    "\n",
    "\n",
    "## Max（境界座標間の垂直距離） ÷2 の幅を持って、直線Aから対象の境界座標群をpick up.\n",
    "#max_length_y = 0\n",
    "\n",
    "# for idx, v in enumerate(y):\n",
    "#     abs_length = abs(v - y[idx-1])\n",
    "#     if (max_length_y < abs_length):\n",
    "#         max_length_y = abs_length\n",
    "        \n",
    "# target_width_y = max_length_y / 2\n",
    "\n",
    "# upper_limit_y = random_y + target_width_y\n",
    "# lower_limit_y = random_y - target_width_y\n",
    "\n",
    "# target_y = [i for i in y if (lower_limit_y < i < upper_limit_y)]\n",
    "\n",
    "## ↑ロジックが微妙な気がすると、大して計算量は変わらないので保留。"
   ]
  },
  {
   "cell_type": "code",
   "execution_count": 148,
   "id": "5ae85dd4-6fc7-4d0c-ba85-2b2456243339",
   "metadata": {},
   "outputs": [],
   "source": [
    "\n",
    "# 2つの線の交点を算出する\n",
    "def prog(x1, y1, x2, y2, x3, y3, x4, y4):\n",
    "    '''\n",
    "    @x1 float: \n",
    "    @y1 float: \n",
    "    @x2 float: \n",
    "    @y2 float: \n",
    "    @x3 float: \n",
    "    @y3 float: \n",
    "    @x4 float: \n",
    "    @y4 float: \n",
    "    '''\n",
    "    if x1 == x2 and x3 == x4:\n",
    "        x = y = np.nan\n",
    "    elif x1 == x2:\n",
    "        x = x1\n",
    "        y = (y4 - y3) / (x4 - x3) * (x1 - x3) + y3\n",
    "    elif x3 == x4:\n",
    "        x = x3\n",
    "        y = (y2 - y1) / (x2 - x1) * (x3 - x1) + y1\n",
    "    else:\n",
    "        a1 = (y2-y1)/(x2-x1)\n",
    "        a3 = (y4-y3)/(x4-x3)\n",
    "        if a1 == a3:\n",
    "            x = y = np.nan\n",
    "        else:\n",
    "            x = (a1*x1-y1-a3*x3+y3)/(a1-a3)\n",
    "            y = (y2-y1)/(x2-x1)*(x-x1)+y1\n",
    "    return (x, y)"
   ]
  },
  {
   "cell_type": "code",
   "execution_count": 149,
   "id": "1f7f12cf-bd77-4724-8c6b-75bc9e0172cc",
   "metadata": {
    "tags": []
   },
   "outputs": [
    {
     "name": "stdout",
     "output_type": "stream",
     "text": [
      "True\n"
     ]
    }
   ],
   "source": [
    "## （元のデータ配列的に）隣り合う境界座標同士から成る線と、直線Aに対して交差判定を行う。\n",
    "\n",
    "target_x = random_x\n",
    "target_y = random_y\n",
    "\n",
    "\n",
    "cross_counter_x_right = 0\n",
    "cross_counter_x_left = 0\n",
    "cross_counter_y_upper = 0\n",
    "cross_counter_y_lower = 0\n",
    "\n",
    "\n",
    "if len(x) != len(y):\n",
    "    #TODO: implement test\n",
    "    print(\"[error]境界座標のx座標とy座標の個数が一致しません。\")\n",
    "    #return\n",
    "\n",
    "\n",
    "\n",
    "\n",
    "# （直線Aの）y軸と交差しているか判定\n",
    "for i in range(len(x)-1):\n",
    "    tuple_x = (x[i], x[i+1])\n",
    "    \n",
    "    if (min(tuple_x) <= target_x <= max(tuple_x)):\n",
    "        # y軸判定：交差している\n",
    "        \n",
    "        # 交点を算出\n",
    "        inter_point = prog(target_x, 0, target_x, 180, x[i], y[i], x[i+1], y[i+1])\n",
    "        \n",
    "        if target_y <= inter_point[1]:\n",
    "            cross_counter_y_upper +=1\n",
    "        elif target_y > inter_point[1]:\n",
    "            cross_counter_y_lower +=1\n",
    "        else:\n",
    "            #TODO: implement test\n",
    "            print(\"[error] 本来引っかからない条件\")\n",
    "\n",
    "    elif (target_x < min(tuple_x)) or (max(tuple_x) < target_x):\n",
    "        # y軸判定：交差していない\n",
    "        pass\n",
    "    else:\n",
    "        #TODO: implement test\n",
    "        print(\"[error] 本来引っかからない条件\")\n",
    "        \n",
    "\n",
    "# （直線Aの）x軸と交差しているか判定\n",
    "for i in range(len(y)-1):\n",
    "    tuple_y = (y[i], y[i+1])\n",
    "    \n",
    "    if (min(tuple_y) <= target_y <= max(tuple_y)):\n",
    "        # x軸判定：内側\n",
    "        \n",
    "        # 交点を算出\n",
    "        inter_point = prog(0, target_y, 180, target_y, x[i], y[i], x[i+1], y[i+1])\n",
    "        \n",
    "        if target_x <= inter_point[0]:\n",
    "            cross_counter_x_right +=1\n",
    "        elif target_x > inter_point[0]:\n",
    "            cross_counter_x_left +=1\n",
    "        else:\n",
    "            #TODO: implement test\n",
    "            print(\"[error] 本来引っかからない条件\")\n",
    "        \n",
    "    elif (target_y < min(tuple_y)) or (max(tuple_y) < target_y):\n",
    "        # x軸判定：交差していない\n",
    "        pass\n",
    "    else:\n",
    "        #TODO: implement test\n",
    "        print(\"[error] 本来引っかからない条件\")\n",
    "        \n",
    "        \n",
    "# 最終判定\n",
    "if (cross_counter_x_right % 2 == 1 ) & (cross_counter_x_left % 2 == 1 ) & (cross_counter_y_lower % 2 == 1 ) & (cross_counter_y_upper % 2 == 1 ):\n",
    "    # 最終判定：　内側\n",
    "    print(\"True\")\n",
    "    pass\n",
    "else:\n",
    "    print(\"False\")\n",
    "    pass"
   ]
  },
  {
   "cell_type": "code",
   "execution_count": 140,
   "id": "cf9ae541-6df2-4b17-8b69-4fc35ae8998e",
   "metadata": {},
   "outputs": [
    {
     "name": "stdout",
     "output_type": "stream",
     "text": [
      "0\n",
      "2\n",
      "0\n",
      "2\n"
     ]
    }
   ],
   "source": [
    "print(cross_counter_x_right)\n",
    "print(cross_counter_x_left)\n",
    "print(cross_counter_y_lower)\n",
    "print(cross_counter_y_upper)"
   ]
  },
  {
   "cell_type": "code",
   "execution_count": null,
   "id": "c3c8418b-7a0a-4148-9c17-cb31ca9f1944",
   "metadata": {},
   "outputs": [],
   "source": []
  },
  {
   "cell_type": "code",
   "execution_count": null,
   "id": "8ab97411-a977-4c70-bacf-d732ff836c35",
   "metadata": {},
   "outputs": [],
   "source": []
  },
  {
   "cell_type": "code",
   "execution_count": null,
   "id": "b95499dd-d2f2-4d57-b83f-841d2ca62be1",
   "metadata": {},
   "outputs": [],
   "source": []
  },
  {
   "cell_type": "code",
   "execution_count": null,
   "id": "ff958be6-b66d-4b03-ba2a-7316f8cf2f20",
   "metadata": {},
   "outputs": [],
   "source": []
  },
  {
   "cell_type": "code",
   "execution_count": null,
   "id": "1e54359e-8b70-4996-b8f3-69618367c429",
   "metadata": {},
   "outputs": [],
   "source": []
  },
  {
   "cell_type": "code",
   "execution_count": 159,
   "id": "f66f7381-8391-4c10-b78d-e351a14917e1",
   "metadata": {},
   "outputs": [
    {
     "data": {
      "text/plain": [
       "array(['琴ノ緒町四丁目', '琴ノ緒町五丁目', '布引町三丁目', '琴ノ緒町三丁目', '琴ノ緒町二丁目', '琴ノ緒町一丁目',\n",
       "       '二宮町一丁目', '若菜通一丁目', '若菜通二丁目', '若菜通三丁目', '若菜通四丁目', '若菜通五丁目',\n",
       "       '若菜通六丁目', '旭通一丁目', '旭通二丁目', '旭通三丁目', '旭通四丁目', '布引町四丁目', '旭通五丁目',\n",
       "       '雲井通四丁目', '雲井通一丁目', '雲井通二丁目', '雲井通三丁目', '雲井通五丁目', '雲井通六丁目',\n",
       "       '雲井通七丁目', '雲井通八丁目', '東雲通五丁目', '東雲通六丁目', '東雲通四丁目', '東雲通三丁目',\n",
       "       '東雲通二丁目', '東雲通一丁目', '八雲通一丁目', '八雲通二丁目', '八雲通三丁目', '八雲通四丁目',\n",
       "       '八雲通五丁目', '八雲通六丁目', '日暮通六丁目', '日暮通五丁目', '日暮通四丁目', '日暮通三丁目',\n",
       "       '日暮通二丁目', '日暮通一丁目', '吾妻通一丁目', '吾妻通二丁目', '吾妻通三丁目', '吾妻通四丁目',\n",
       "       '吾妻通五丁目', '吾妻通六丁目', '北本町通六丁目', '北本町通五丁目', '北本町通四丁目', '北本町通三丁目',\n",
       "       '北本町通二丁目', '北本町通一丁目', '南本町通一丁目', '南本町通二丁目', '南本町通三丁目', '南本町通四丁目',\n",
       "       '真砂通一丁目', '真砂通二丁目', '南本町通五丁目', '南本町通六丁目', '小野柄通七丁目', '小野柄通八丁目',\n",
       "       '御幸通七丁目', '御幸通八丁目', '磯上通七丁目', '磯上通八丁目', '八幡通三丁目', '小野柄通六丁目',\n",
       "       '小野柄通五丁目', '御幸通六丁目', '小野柄通四丁目', '御幸通四丁目', '御幸通五丁目', '小野柄通三丁目',\n",
       "       '御幸通三丁目', '小野柄通二丁目', '御幸通二丁目', '磯上通一丁目', '磯上通二丁目', '御幸通一丁目',\n",
       "       '小野柄通一丁目', '磯上通三丁目', '磯上通四丁目', '八幡通一丁目', '磯上通五丁目', '磯上通六丁目',\n",
       "       '八幡通二丁目', '八幡通四丁目', '磯辺通四丁目', '磯辺通三丁目', '浜辺通六丁目', '浜辺通五丁目',\n",
       "       '磯辺通二丁目', '浜辺通四丁目', '磯辺通一丁目', '浜辺通二丁目', '浜辺通一丁目', '浜辺通三丁目', '小野浜町',\n",
       "       '三宮町二丁目', '三宮町三丁目', '三宮町一丁目', '加納町五丁目', '加納町六丁目', '東町', '江戸町',\n",
       "       '伊藤町', '京町', '浪花町', '播磨町', '明石町', '西町', '前町', '海岸通', '新港町',\n",
       "       '中山手通三丁目', '中山手通二丁目', '中山手通一丁目', '加納町三丁目', '加納町四丁目', '北長狭通一丁目',\n",
       "       '下山手通一丁目', '下山手通二丁目', '下山手通三丁目', '北長狭通三丁目', '北長狭通二丁目', '北野町四丁目',\n",
       "       '北野町三丁目', '北野町二丁目', '北野町一丁目', '加納町一丁目', '加納町二丁目', '山本通一丁目',\n",
       "       '山本通二丁目', '生田町一丁目', '布引町一丁目', '布引町二丁目', '熊内橋通七丁目', '熊内橋通六丁目',\n",
       "       '熊内橋通五丁目', '熊内橋通四丁目', '熊内橋通三丁目', '熊内橋通二丁目', '旗塚通二丁目', '熊内橋通一丁目',\n",
       "       '旗塚通一丁目', '旗塚通三丁目', '旗塚通四丁目', '旗塚通五丁目', '旗塚通六丁目', '旗塚通七丁目',\n",
       "       '生田町二丁目', '生田町四丁目', '生田町三丁目', '神若通六丁目', '神若通七丁目', '国香通七丁目',\n",
       "       '神若通五丁目', '神若通四丁目', '神若通三丁目', '神若通二丁目', '神若通一丁目', '国香通一丁目',\n",
       "       '国香通二丁目', '国香通三丁目', '国香通四丁目', '国香通五丁目', '国香通六丁目', '二宮町二丁目',\n",
       "       '二宮町三丁目', '二宮町四丁目', '熊内町九丁目', '葺合町', '熊内町八丁目', '熊内町五丁目', '中尾町',\n",
       "       '籠池通五丁目', '中島通五丁目', '神仙寺通四丁目', '神仙寺通三丁目', '神仙寺通一丁目', '神仙寺通二丁目',\n",
       "       '中島通一丁目', '中島通二丁目', '中島通三丁目', '中島通四丁目', '熊内町六丁目', '熊内町七丁目',\n",
       "       '籠池通六丁目', '籠池通七丁目', '籠池通四丁目', '籠池通三丁目', '籠池通一丁目', '籠池通二丁目',\n",
       "       '熊内町四丁目', '熊内町三丁目', '熊内町二丁目', '熊内町一丁目', '野崎通七丁目', '野崎通六丁目',\n",
       "       '野崎通五丁目', '野崎通四丁目', '野崎通三丁目', '野崎通二丁目', '上筒井通四丁目', '上筒井通五丁目',\n",
       "       '野崎通一丁目', '上筒井通一丁目', '上筒井通二丁目', '上筒井通三丁目', '上筒井通六丁目', '上筒井通七丁目',\n",
       "       '坂口通七丁目', '宮本通七丁目', '坂口通六丁目', '宮本通六丁目', '坂口通五丁目', '坂口通四丁目',\n",
       "       '坂口通三丁目', '坂口通一丁目', '坂口通二丁目', '宮本通一丁目', '宮本通二丁目', '宮本通三丁目',\n",
       "       '宮本通四丁目', '宮本通五丁目', '大日通七丁目', '割塚通七丁目', '割塚通六丁目', '割塚通五丁目',\n",
       "       '大日通六丁目', '大日通五丁目', '大日通四丁目', '割塚通四丁目', '割塚通三丁目', '大日通三丁目',\n",
       "       '大日通二丁目', '割塚通二丁目', '大日通一丁目', '割塚通一丁目', '筒井町三丁目', '筒井町二丁目',\n",
       "       '筒井町一丁目', '脇浜町一丁目', '脇浜町三丁目', '脇浜町二丁目', '脇浜海岸通二丁目', '脇浜海岸通',\n",
       "       '脇浜海岸通三丁目', '脇浜海岸通四丁目', '脇浜海岸通一丁目', '元町通六丁目', '元町通五丁目', '元町通四丁目',\n",
       "       '元町通三丁目', '元町通二丁目', '元町通一丁目', '栄町通一丁目', '栄町通二丁目', '栄町通三丁目',\n",
       "       '栄町通四丁目', '栄町通五丁目', '栄町通六丁目', '海岸通六丁目', '海岸通五丁目', '海岸通四丁目',\n",
       "       '海岸通三丁目', '海岸通一丁目', '海岸通二丁目', '波止場町', '元町通七丁目', '相生町一丁目',\n",
       "       '東川崎町一丁目', '栄町通七丁目', '弁天町', '東川崎町七丁目', '東川崎町六丁目', '東川崎町五丁目',\n",
       "       '東川崎町二丁目', '東川崎町三丁目', '東川崎町四丁目', '楠町七丁目', '楠町八丁目', '楠町一丁目',\n",
       "       '楠町三丁目', '楠町四丁目', '楠町六丁目', '楠町五丁目', '多聞通四丁目', '橘通三丁目', '多聞通三丁目',\n",
       "       '楠町二丁目', '北長狭通八丁目', '橘通一丁目', '橘通二丁目', '多聞通一丁目', '多聞通二丁目', '相生町二丁目',\n",
       "       '橘通四丁目', '多聞通五丁目', '中町通二丁目', '中町通三丁目', '中町通四丁目', '相生町四丁目',\n",
       "       '相生町三丁目', '古湊通一丁目', '古湊通二丁目', '相生町五丁目', '下山手通七丁目', '下山手通九丁目',\n",
       "       '下山手通六丁目', '下山手通四丁目', '下山手通五丁目', '北長狭通四丁目', '花隈町', '下山手通八丁目',\n",
       "       '北長狭通七丁目', '北長狭通六丁目', '北長狭通五丁目', '元町高架通', '中山手通七丁目', '中山手通六丁目',\n",
       "       '中山手通四丁目', '中山手通五丁目', '中山手通八丁目', '再度筋町', '諏訪山町', '山本通四丁目',\n",
       "       '山本通三丁目', '神戸港地方', '山本通五丁目', '港島一丁目', '港島二丁目', '港島三丁目', '港島四丁目',\n",
       "       '港島五丁目', '港島六丁目', '港島七丁目', '港島八丁目', '港島九丁目', '港島中町一丁目', '港島中町二丁目',\n",
       "       '港島中町四丁目', '港島中町五丁目', '港島南町一丁目', '港島南町二丁目', '港島南町三丁目', '港島南町四丁目',\n",
       "       '港島南町五丁目', '港島南町六丁目', '港島南町七丁目', '港島中町六丁目', '港島中町七丁目', '港島中町八丁目',\n",
       "       '港島中町三丁目', '神戸空港', '水面'], dtype=object)"
      ]
     },
     "execution_count": 159,
     "metadata": {},
     "output_type": "execute_result"
    }
   ],
   "source": [
    "gdf_hyogo_kobe_chuo[\"S_NAME\"].unique()"
   ]
  },
  {
   "cell_type": "code",
   "execution_count": null,
   "id": "53423af4-9821-4171-aa4d-df6917b0d2b1",
   "metadata": {},
   "outputs": [],
   "source": []
  }
 ],
 "metadata": {
  "kernelspec": {
   "display_name": "Python 3 (ipykernel)",
   "language": "python",
   "name": "python3"
  },
  "language_info": {
   "codemirror_mode": {
    "name": "ipython",
    "version": 3
   },
   "file_extension": ".py",
   "mimetype": "text/x-python",
   "name": "python",
   "nbconvert_exporter": "python",
   "pygments_lexer": "ipython3",
   "version": "3.10.4"
  }
 },
 "nbformat": 4,
 "nbformat_minor": 5
}
